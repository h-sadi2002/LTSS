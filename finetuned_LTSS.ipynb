{
  "nbformat": 4,
  "nbformat_minor": 0,
  "metadata": {
    "colab": {
      "provenance": [],
      "gpuType": "T4"
    },
    "kernelspec": {
      "name": "python3",
      "display_name": "Python 3"
    },
    "language_info": {
      "name": "python"
    },
    "accelerator": "GPU",
    "widgets": {
      "application/vnd.jupyter.widget-state+json": {
        "a186346fce6c4e7ba29220d493d13eee": {
          "model_module": "@jupyter-widgets/controls",
          "model_name": "HBoxModel",
          "model_module_version": "1.5.0",
          "state": {
            "_dom_classes": [],
            "_model_module": "@jupyter-widgets/controls",
            "_model_module_version": "1.5.0",
            "_model_name": "HBoxModel",
            "_view_count": null,
            "_view_module": "@jupyter-widgets/controls",
            "_view_module_version": "1.5.0",
            "_view_name": "HBoxView",
            "box_style": "",
            "children": [
              "IPY_MODEL_db3ac3ba56124b2e9e4ad0ed2770c1b5",
              "IPY_MODEL_c3eb79b731d94fac9e3943e87af0adc2",
              "IPY_MODEL_8e9efab23c2f4ecfa34950f44d9ed029"
            ],
            "layout": "IPY_MODEL_d83583472b704e77947018a08aa46577"
          }
        },
        "db3ac3ba56124b2e9e4ad0ed2770c1b5": {
          "model_module": "@jupyter-widgets/controls",
          "model_name": "HTMLModel",
          "model_module_version": "1.5.0",
          "state": {
            "_dom_classes": [],
            "_model_module": "@jupyter-widgets/controls",
            "_model_module_version": "1.5.0",
            "_model_name": "HTMLModel",
            "_view_count": null,
            "_view_module": "@jupyter-widgets/controls",
            "_view_module_version": "1.5.0",
            "_view_name": "HTMLView",
            "description": "",
            "description_tooltip": null,
            "layout": "IPY_MODEL_68e24a0f72eb4bceae5290f82f951998",
            "placeholder": "​",
            "style": "IPY_MODEL_dcd536ea2eaa4cd281828d6b7350c4b4",
            "value": "config.json: 100%"
          }
        },
        "c3eb79b731d94fac9e3943e87af0adc2": {
          "model_module": "@jupyter-widgets/controls",
          "model_name": "FloatProgressModel",
          "model_module_version": "1.5.0",
          "state": {
            "_dom_classes": [],
            "_model_module": "@jupyter-widgets/controls",
            "_model_module_version": "1.5.0",
            "_model_name": "FloatProgressModel",
            "_view_count": null,
            "_view_module": "@jupyter-widgets/controls",
            "_view_module_version": "1.5.0",
            "_view_name": "ProgressView",
            "bar_style": "success",
            "description": "",
            "description_tooltip": null,
            "layout": "IPY_MODEL_8131f95f2ab94c2794e8a6b7094cd786",
            "max": 491,
            "min": 0,
            "orientation": "horizontal",
            "style": "IPY_MODEL_d53ed07454e34006a59154f7a57186e9",
            "value": 491
          }
        },
        "8e9efab23c2f4ecfa34950f44d9ed029": {
          "model_module": "@jupyter-widgets/controls",
          "model_name": "HTMLModel",
          "model_module_version": "1.5.0",
          "state": {
            "_dom_classes": [],
            "_model_module": "@jupyter-widgets/controls",
            "_model_module_version": "1.5.0",
            "_model_name": "HTMLModel",
            "_view_count": null,
            "_view_module": "@jupyter-widgets/controls",
            "_view_module_version": "1.5.0",
            "_view_name": "HTMLView",
            "description": "",
            "description_tooltip": null,
            "layout": "IPY_MODEL_9d8765de245e4165a97a810ef1d73fe5",
            "placeholder": "​",
            "style": "IPY_MODEL_e1c1a048e60448ef8c7bf47fc8e3a328",
            "value": " 491/491 [00:00&lt;00:00, 7.76kB/s]"
          }
        },
        "d83583472b704e77947018a08aa46577": {
          "model_module": "@jupyter-widgets/base",
          "model_name": "LayoutModel",
          "model_module_version": "1.2.0",
          "state": {
            "_model_module": "@jupyter-widgets/base",
            "_model_module_version": "1.2.0",
            "_model_name": "LayoutModel",
            "_view_count": null,
            "_view_module": "@jupyter-widgets/base",
            "_view_module_version": "1.2.0",
            "_view_name": "LayoutView",
            "align_content": null,
            "align_items": null,
            "align_self": null,
            "border": null,
            "bottom": null,
            "display": null,
            "flex": null,
            "flex_flow": null,
            "grid_area": null,
            "grid_auto_columns": null,
            "grid_auto_flow": null,
            "grid_auto_rows": null,
            "grid_column": null,
            "grid_gap": null,
            "grid_row": null,
            "grid_template_areas": null,
            "grid_template_columns": null,
            "grid_template_rows": null,
            "height": null,
            "justify_content": null,
            "justify_items": null,
            "left": null,
            "margin": null,
            "max_height": null,
            "max_width": null,
            "min_height": null,
            "min_width": null,
            "object_fit": null,
            "object_position": null,
            "order": null,
            "overflow": null,
            "overflow_x": null,
            "overflow_y": null,
            "padding": null,
            "right": null,
            "top": null,
            "visibility": null,
            "width": null
          }
        },
        "68e24a0f72eb4bceae5290f82f951998": {
          "model_module": "@jupyter-widgets/base",
          "model_name": "LayoutModel",
          "model_module_version": "1.2.0",
          "state": {
            "_model_module": "@jupyter-widgets/base",
            "_model_module_version": "1.2.0",
            "_model_name": "LayoutModel",
            "_view_count": null,
            "_view_module": "@jupyter-widgets/base",
            "_view_module_version": "1.2.0",
            "_view_name": "LayoutView",
            "align_content": null,
            "align_items": null,
            "align_self": null,
            "border": null,
            "bottom": null,
            "display": null,
            "flex": null,
            "flex_flow": null,
            "grid_area": null,
            "grid_auto_columns": null,
            "grid_auto_flow": null,
            "grid_auto_rows": null,
            "grid_column": null,
            "grid_gap": null,
            "grid_row": null,
            "grid_template_areas": null,
            "grid_template_columns": null,
            "grid_template_rows": null,
            "height": null,
            "justify_content": null,
            "justify_items": null,
            "left": null,
            "margin": null,
            "max_height": null,
            "max_width": null,
            "min_height": null,
            "min_width": null,
            "object_fit": null,
            "object_position": null,
            "order": null,
            "overflow": null,
            "overflow_x": null,
            "overflow_y": null,
            "padding": null,
            "right": null,
            "top": null,
            "visibility": null,
            "width": null
          }
        },
        "dcd536ea2eaa4cd281828d6b7350c4b4": {
          "model_module": "@jupyter-widgets/controls",
          "model_name": "DescriptionStyleModel",
          "model_module_version": "1.5.0",
          "state": {
            "_model_module": "@jupyter-widgets/controls",
            "_model_module_version": "1.5.0",
            "_model_name": "DescriptionStyleModel",
            "_view_count": null,
            "_view_module": "@jupyter-widgets/base",
            "_view_module_version": "1.2.0",
            "_view_name": "StyleView",
            "description_width": ""
          }
        },
        "8131f95f2ab94c2794e8a6b7094cd786": {
          "model_module": "@jupyter-widgets/base",
          "model_name": "LayoutModel",
          "model_module_version": "1.2.0",
          "state": {
            "_model_module": "@jupyter-widgets/base",
            "_model_module_version": "1.2.0",
            "_model_name": "LayoutModel",
            "_view_count": null,
            "_view_module": "@jupyter-widgets/base",
            "_view_module_version": "1.2.0",
            "_view_name": "LayoutView",
            "align_content": null,
            "align_items": null,
            "align_self": null,
            "border": null,
            "bottom": null,
            "display": null,
            "flex": null,
            "flex_flow": null,
            "grid_area": null,
            "grid_auto_columns": null,
            "grid_auto_flow": null,
            "grid_auto_rows": null,
            "grid_column": null,
            "grid_gap": null,
            "grid_row": null,
            "grid_template_areas": null,
            "grid_template_columns": null,
            "grid_template_rows": null,
            "height": null,
            "justify_content": null,
            "justify_items": null,
            "left": null,
            "margin": null,
            "max_height": null,
            "max_width": null,
            "min_height": null,
            "min_width": null,
            "object_fit": null,
            "object_position": null,
            "order": null,
            "overflow": null,
            "overflow_x": null,
            "overflow_y": null,
            "padding": null,
            "right": null,
            "top": null,
            "visibility": null,
            "width": null
          }
        },
        "d53ed07454e34006a59154f7a57186e9": {
          "model_module": "@jupyter-widgets/controls",
          "model_name": "ProgressStyleModel",
          "model_module_version": "1.5.0",
          "state": {
            "_model_module": "@jupyter-widgets/controls",
            "_model_module_version": "1.5.0",
            "_model_name": "ProgressStyleModel",
            "_view_count": null,
            "_view_module": "@jupyter-widgets/base",
            "_view_module_version": "1.2.0",
            "_view_name": "StyleView",
            "bar_color": null,
            "description_width": ""
          }
        },
        "9d8765de245e4165a97a810ef1d73fe5": {
          "model_module": "@jupyter-widgets/base",
          "model_name": "LayoutModel",
          "model_module_version": "1.2.0",
          "state": {
            "_model_module": "@jupyter-widgets/base",
            "_model_module_version": "1.2.0",
            "_model_name": "LayoutModel",
            "_view_count": null,
            "_view_module": "@jupyter-widgets/base",
            "_view_module_version": "1.2.0",
            "_view_name": "LayoutView",
            "align_content": null,
            "align_items": null,
            "align_self": null,
            "border": null,
            "bottom": null,
            "display": null,
            "flex": null,
            "flex_flow": null,
            "grid_area": null,
            "grid_auto_columns": null,
            "grid_auto_flow": null,
            "grid_auto_rows": null,
            "grid_column": null,
            "grid_gap": null,
            "grid_row": null,
            "grid_template_areas": null,
            "grid_template_columns": null,
            "grid_template_rows": null,
            "height": null,
            "justify_content": null,
            "justify_items": null,
            "left": null,
            "margin": null,
            "max_height": null,
            "max_width": null,
            "min_height": null,
            "min_width": null,
            "object_fit": null,
            "object_position": null,
            "order": null,
            "overflow": null,
            "overflow_x": null,
            "overflow_y": null,
            "padding": null,
            "right": null,
            "top": null,
            "visibility": null,
            "width": null
          }
        },
        "e1c1a048e60448ef8c7bf47fc8e3a328": {
          "model_module": "@jupyter-widgets/controls",
          "model_name": "DescriptionStyleModel",
          "model_module_version": "1.5.0",
          "state": {
            "_model_module": "@jupyter-widgets/controls",
            "_model_module_version": "1.5.0",
            "_model_name": "DescriptionStyleModel",
            "_view_count": null,
            "_view_module": "@jupyter-widgets/base",
            "_view_module_version": "1.2.0",
            "_view_name": "StyleView",
            "description_width": ""
          }
        },
        "8e20adaf53744326a6e8fa2d0e447ee2": {
          "model_module": "@jupyter-widgets/controls",
          "model_name": "HBoxModel",
          "model_module_version": "1.5.0",
          "state": {
            "_dom_classes": [],
            "_model_module": "@jupyter-widgets/controls",
            "_model_module_version": "1.5.0",
            "_model_name": "HBoxModel",
            "_view_count": null,
            "_view_module": "@jupyter-widgets/controls",
            "_view_module_version": "1.5.0",
            "_view_name": "HBoxView",
            "box_style": "",
            "children": [
              "IPY_MODEL_c1b2404eff824b14851bbcec3f37ed85",
              "IPY_MODEL_2980e1eee6c04794909f03ad657bb6e7",
              "IPY_MODEL_79b02236a4d74c018370418a39e598f5"
            ],
            "layout": "IPY_MODEL_016e0b4d2ec14fe796378e992b41c928"
          }
        },
        "c1b2404eff824b14851bbcec3f37ed85": {
          "model_module": "@jupyter-widgets/controls",
          "model_name": "HTMLModel",
          "model_module_version": "1.5.0",
          "state": {
            "_dom_classes": [],
            "_model_module": "@jupyter-widgets/controls",
            "_model_module_version": "1.5.0",
            "_model_name": "HTMLModel",
            "_view_count": null,
            "_view_module": "@jupyter-widgets/controls",
            "_view_module_version": "1.5.0",
            "_view_name": "HTMLView",
            "description": "",
            "description_tooltip": null,
            "layout": "IPY_MODEL_49004d89f0fe41a9b75a6f41faf94db4",
            "placeholder": "​",
            "style": "IPY_MODEL_80529de548384a1a8e2e4ce372c27103",
            "value": "vocab.txt: 100%"
          }
        },
        "2980e1eee6c04794909f03ad657bb6e7": {
          "model_module": "@jupyter-widgets/controls",
          "model_name": "FloatProgressModel",
          "model_module_version": "1.5.0",
          "state": {
            "_dom_classes": [],
            "_model_module": "@jupyter-widgets/controls",
            "_model_module_version": "1.5.0",
            "_model_name": "FloatProgressModel",
            "_view_count": null,
            "_view_module": "@jupyter-widgets/controls",
            "_view_module_version": "1.5.0",
            "_view_name": "ProgressView",
            "bar_style": "success",
            "description": "",
            "description_tooltip": null,
            "layout": "IPY_MODEL_54a01125ee784c0986582f62665eb5d7",
            "max": 2237676,
            "min": 0,
            "orientation": "horizontal",
            "style": "IPY_MODEL_9eedaff7a3124cc2b2a52712135667dd",
            "value": 2237676
          }
        },
        "79b02236a4d74c018370418a39e598f5": {
          "model_module": "@jupyter-widgets/controls",
          "model_name": "HTMLModel",
          "model_module_version": "1.5.0",
          "state": {
            "_dom_classes": [],
            "_model_module": "@jupyter-widgets/controls",
            "_model_module_version": "1.5.0",
            "_model_name": "HTMLModel",
            "_view_count": null,
            "_view_module": "@jupyter-widgets/controls",
            "_view_module_version": "1.5.0",
            "_view_name": "HTMLView",
            "description": "",
            "description_tooltip": null,
            "layout": "IPY_MODEL_3e459eab8b644e6ea81df0d40065a084",
            "placeholder": "​",
            "style": "IPY_MODEL_9a0a2eaf34fe478690fb94bd24678074",
            "value": " 2.24M/2.24M [00:00&lt;00:00, 5.40MB/s]"
          }
        },
        "016e0b4d2ec14fe796378e992b41c928": {
          "model_module": "@jupyter-widgets/base",
          "model_name": "LayoutModel",
          "model_module_version": "1.2.0",
          "state": {
            "_model_module": "@jupyter-widgets/base",
            "_model_module_version": "1.2.0",
            "_model_name": "LayoutModel",
            "_view_count": null,
            "_view_module": "@jupyter-widgets/base",
            "_view_module_version": "1.2.0",
            "_view_name": "LayoutView",
            "align_content": null,
            "align_items": null,
            "align_self": null,
            "border": null,
            "bottom": null,
            "display": null,
            "flex": null,
            "flex_flow": null,
            "grid_area": null,
            "grid_auto_columns": null,
            "grid_auto_flow": null,
            "grid_auto_rows": null,
            "grid_column": null,
            "grid_gap": null,
            "grid_row": null,
            "grid_template_areas": null,
            "grid_template_columns": null,
            "grid_template_rows": null,
            "height": null,
            "justify_content": null,
            "justify_items": null,
            "left": null,
            "margin": null,
            "max_height": null,
            "max_width": null,
            "min_height": null,
            "min_width": null,
            "object_fit": null,
            "object_position": null,
            "order": null,
            "overflow": null,
            "overflow_x": null,
            "overflow_y": null,
            "padding": null,
            "right": null,
            "top": null,
            "visibility": null,
            "width": null
          }
        },
        "49004d89f0fe41a9b75a6f41faf94db4": {
          "model_module": "@jupyter-widgets/base",
          "model_name": "LayoutModel",
          "model_module_version": "1.2.0",
          "state": {
            "_model_module": "@jupyter-widgets/base",
            "_model_module_version": "1.2.0",
            "_model_name": "LayoutModel",
            "_view_count": null,
            "_view_module": "@jupyter-widgets/base",
            "_view_module_version": "1.2.0",
            "_view_name": "LayoutView",
            "align_content": null,
            "align_items": null,
            "align_self": null,
            "border": null,
            "bottom": null,
            "display": null,
            "flex": null,
            "flex_flow": null,
            "grid_area": null,
            "grid_auto_columns": null,
            "grid_auto_flow": null,
            "grid_auto_rows": null,
            "grid_column": null,
            "grid_gap": null,
            "grid_row": null,
            "grid_template_areas": null,
            "grid_template_columns": null,
            "grid_template_rows": null,
            "height": null,
            "justify_content": null,
            "justify_items": null,
            "left": null,
            "margin": null,
            "max_height": null,
            "max_width": null,
            "min_height": null,
            "min_width": null,
            "object_fit": null,
            "object_position": null,
            "order": null,
            "overflow": null,
            "overflow_x": null,
            "overflow_y": null,
            "padding": null,
            "right": null,
            "top": null,
            "visibility": null,
            "width": null
          }
        },
        "80529de548384a1a8e2e4ce372c27103": {
          "model_module": "@jupyter-widgets/controls",
          "model_name": "DescriptionStyleModel",
          "model_module_version": "1.5.0",
          "state": {
            "_model_module": "@jupyter-widgets/controls",
            "_model_module_version": "1.5.0",
            "_model_name": "DescriptionStyleModel",
            "_view_count": null,
            "_view_module": "@jupyter-widgets/base",
            "_view_module_version": "1.2.0",
            "_view_name": "StyleView",
            "description_width": ""
          }
        },
        "54a01125ee784c0986582f62665eb5d7": {
          "model_module": "@jupyter-widgets/base",
          "model_name": "LayoutModel",
          "model_module_version": "1.2.0",
          "state": {
            "_model_module": "@jupyter-widgets/base",
            "_model_module_version": "1.2.0",
            "_model_name": "LayoutModel",
            "_view_count": null,
            "_view_module": "@jupyter-widgets/base",
            "_view_module_version": "1.2.0",
            "_view_name": "LayoutView",
            "align_content": null,
            "align_items": null,
            "align_self": null,
            "border": null,
            "bottom": null,
            "display": null,
            "flex": null,
            "flex_flow": null,
            "grid_area": null,
            "grid_auto_columns": null,
            "grid_auto_flow": null,
            "grid_auto_rows": null,
            "grid_column": null,
            "grid_gap": null,
            "grid_row": null,
            "grid_template_areas": null,
            "grid_template_columns": null,
            "grid_template_rows": null,
            "height": null,
            "justify_content": null,
            "justify_items": null,
            "left": null,
            "margin": null,
            "max_height": null,
            "max_width": null,
            "min_height": null,
            "min_width": null,
            "object_fit": null,
            "object_position": null,
            "order": null,
            "overflow": null,
            "overflow_x": null,
            "overflow_y": null,
            "padding": null,
            "right": null,
            "top": null,
            "visibility": null,
            "width": null
          }
        },
        "9eedaff7a3124cc2b2a52712135667dd": {
          "model_module": "@jupyter-widgets/controls",
          "model_name": "ProgressStyleModel",
          "model_module_version": "1.5.0",
          "state": {
            "_model_module": "@jupyter-widgets/controls",
            "_model_module_version": "1.5.0",
            "_model_name": "ProgressStyleModel",
            "_view_count": null,
            "_view_module": "@jupyter-widgets/base",
            "_view_module_version": "1.2.0",
            "_view_name": "StyleView",
            "bar_color": null,
            "description_width": ""
          }
        },
        "3e459eab8b644e6ea81df0d40065a084": {
          "model_module": "@jupyter-widgets/base",
          "model_name": "LayoutModel",
          "model_module_version": "1.2.0",
          "state": {
            "_model_module": "@jupyter-widgets/base",
            "_model_module_version": "1.2.0",
            "_model_name": "LayoutModel",
            "_view_count": null,
            "_view_module": "@jupyter-widgets/base",
            "_view_module_version": "1.2.0",
            "_view_name": "LayoutView",
            "align_content": null,
            "align_items": null,
            "align_self": null,
            "border": null,
            "bottom": null,
            "display": null,
            "flex": null,
            "flex_flow": null,
            "grid_area": null,
            "grid_auto_columns": null,
            "grid_auto_flow": null,
            "grid_auto_rows": null,
            "grid_column": null,
            "grid_gap": null,
            "grid_row": null,
            "grid_template_areas": null,
            "grid_template_columns": null,
            "grid_template_rows": null,
            "height": null,
            "justify_content": null,
            "justify_items": null,
            "left": null,
            "margin": null,
            "max_height": null,
            "max_width": null,
            "min_height": null,
            "min_width": null,
            "object_fit": null,
            "object_position": null,
            "order": null,
            "overflow": null,
            "overflow_x": null,
            "overflow_y": null,
            "padding": null,
            "right": null,
            "top": null,
            "visibility": null,
            "width": null
          }
        },
        "9a0a2eaf34fe478690fb94bd24678074": {
          "model_module": "@jupyter-widgets/controls",
          "model_name": "DescriptionStyleModel",
          "model_module_version": "1.5.0",
          "state": {
            "_model_module": "@jupyter-widgets/controls",
            "_model_module_version": "1.5.0",
            "_model_name": "DescriptionStyleModel",
            "_view_count": null,
            "_view_module": "@jupyter-widgets/base",
            "_view_module_version": "1.2.0",
            "_view_name": "StyleView",
            "description_width": ""
          }
        },
        "de73bb46812c426abafb7a54d1751e1a": {
          "model_module": "@jupyter-widgets/controls",
          "model_name": "HBoxModel",
          "model_module_version": "1.5.0",
          "state": {
            "_dom_classes": [],
            "_model_module": "@jupyter-widgets/controls",
            "_model_module_version": "1.5.0",
            "_model_name": "HBoxModel",
            "_view_count": null,
            "_view_module": "@jupyter-widgets/controls",
            "_view_module_version": "1.5.0",
            "_view_name": "HBoxView",
            "box_style": "",
            "children": [
              "IPY_MODEL_1755e869dc174b6f9b30e01605e42a62",
              "IPY_MODEL_087dbcbd6bc4490690be767ba52695f7",
              "IPY_MODEL_4d690259f0944fcfb4f7006d2719d5ce"
            ],
            "layout": "IPY_MODEL_0af8872636994bb991b5595ffa3a5ce2"
          }
        },
        "1755e869dc174b6f9b30e01605e42a62": {
          "model_module": "@jupyter-widgets/controls",
          "model_name": "HTMLModel",
          "model_module_version": "1.5.0",
          "state": {
            "_dom_classes": [],
            "_model_module": "@jupyter-widgets/controls",
            "_model_module_version": "1.5.0",
            "_model_name": "HTMLModel",
            "_view_count": null,
            "_view_module": "@jupyter-widgets/controls",
            "_view_module_version": "1.5.0",
            "_view_name": "HTMLView",
            "description": "",
            "description_tooltip": null,
            "layout": "IPY_MODEL_6f4cc9cb1c934399aa326db7a557e341",
            "placeholder": "​",
            "style": "IPY_MODEL_92721c17460b4f22b5710bd57a9107c6",
            "value": "model.safetensors: 100%"
          }
        },
        "087dbcbd6bc4490690be767ba52695f7": {
          "model_module": "@jupyter-widgets/controls",
          "model_name": "FloatProgressModel",
          "model_module_version": "1.5.0",
          "state": {
            "_dom_classes": [],
            "_model_module": "@jupyter-widgets/controls",
            "_model_module_version": "1.5.0",
            "_model_name": "FloatProgressModel",
            "_view_count": null,
            "_view_module": "@jupyter-widgets/controls",
            "_view_module_version": "1.5.0",
            "_view_name": "ProgressView",
            "bar_style": "success",
            "description": "",
            "description_tooltip": null,
            "layout": "IPY_MODEL_e4126a606bcb4e1da8eae6e0355d3b24",
            "max": 660393036,
            "min": 0,
            "orientation": "horizontal",
            "style": "IPY_MODEL_1ff792b7602e4ea080e2b7c466b5460a",
            "value": 660393036
          }
        },
        "4d690259f0944fcfb4f7006d2719d5ce": {
          "model_module": "@jupyter-widgets/controls",
          "model_name": "HTMLModel",
          "model_module_version": "1.5.0",
          "state": {
            "_dom_classes": [],
            "_model_module": "@jupyter-widgets/controls",
            "_model_module_version": "1.5.0",
            "_model_name": "HTMLModel",
            "_view_count": null,
            "_view_module": "@jupyter-widgets/controls",
            "_view_module_version": "1.5.0",
            "_view_name": "HTMLView",
            "description": "",
            "description_tooltip": null,
            "layout": "IPY_MODEL_22e54d7c88124e868c672728ac15fb5d",
            "placeholder": "​",
            "style": "IPY_MODEL_b7ae80cb3d4a435b83aa605b4138995b",
            "value": " 660M/660M [00:02&lt;00:00, 242MB/s]"
          }
        },
        "0af8872636994bb991b5595ffa3a5ce2": {
          "model_module": "@jupyter-widgets/base",
          "model_name": "LayoutModel",
          "model_module_version": "1.2.0",
          "state": {
            "_model_module": "@jupyter-widgets/base",
            "_model_module_version": "1.2.0",
            "_model_name": "LayoutModel",
            "_view_count": null,
            "_view_module": "@jupyter-widgets/base",
            "_view_module_version": "1.2.0",
            "_view_name": "LayoutView",
            "align_content": null,
            "align_items": null,
            "align_self": null,
            "border": null,
            "bottom": null,
            "display": null,
            "flex": null,
            "flex_flow": null,
            "grid_area": null,
            "grid_auto_columns": null,
            "grid_auto_flow": null,
            "grid_auto_rows": null,
            "grid_column": null,
            "grid_gap": null,
            "grid_row": null,
            "grid_template_areas": null,
            "grid_template_columns": null,
            "grid_template_rows": null,
            "height": null,
            "justify_content": null,
            "justify_items": null,
            "left": null,
            "margin": null,
            "max_height": null,
            "max_width": null,
            "min_height": null,
            "min_width": null,
            "object_fit": null,
            "object_position": null,
            "order": null,
            "overflow": null,
            "overflow_x": null,
            "overflow_y": null,
            "padding": null,
            "right": null,
            "top": null,
            "visibility": null,
            "width": null
          }
        },
        "6f4cc9cb1c934399aa326db7a557e341": {
          "model_module": "@jupyter-widgets/base",
          "model_name": "LayoutModel",
          "model_module_version": "1.2.0",
          "state": {
            "_model_module": "@jupyter-widgets/base",
            "_model_module_version": "1.2.0",
            "_model_name": "LayoutModel",
            "_view_count": null,
            "_view_module": "@jupyter-widgets/base",
            "_view_module_version": "1.2.0",
            "_view_name": "LayoutView",
            "align_content": null,
            "align_items": null,
            "align_self": null,
            "border": null,
            "bottom": null,
            "display": null,
            "flex": null,
            "flex_flow": null,
            "grid_area": null,
            "grid_auto_columns": null,
            "grid_auto_flow": null,
            "grid_auto_rows": null,
            "grid_column": null,
            "grid_gap": null,
            "grid_row": null,
            "grid_template_areas": null,
            "grid_template_columns": null,
            "grid_template_rows": null,
            "height": null,
            "justify_content": null,
            "justify_items": null,
            "left": null,
            "margin": null,
            "max_height": null,
            "max_width": null,
            "min_height": null,
            "min_width": null,
            "object_fit": null,
            "object_position": null,
            "order": null,
            "overflow": null,
            "overflow_x": null,
            "overflow_y": null,
            "padding": null,
            "right": null,
            "top": null,
            "visibility": null,
            "width": null
          }
        },
        "92721c17460b4f22b5710bd57a9107c6": {
          "model_module": "@jupyter-widgets/controls",
          "model_name": "DescriptionStyleModel",
          "model_module_version": "1.5.0",
          "state": {
            "_model_module": "@jupyter-widgets/controls",
            "_model_module_version": "1.5.0",
            "_model_name": "DescriptionStyleModel",
            "_view_count": null,
            "_view_module": "@jupyter-widgets/base",
            "_view_module_version": "1.2.0",
            "_view_name": "StyleView",
            "description_width": ""
          }
        },
        "e4126a606bcb4e1da8eae6e0355d3b24": {
          "model_module": "@jupyter-widgets/base",
          "model_name": "LayoutModel",
          "model_module_version": "1.2.0",
          "state": {
            "_model_module": "@jupyter-widgets/base",
            "_model_module_version": "1.2.0",
            "_model_name": "LayoutModel",
            "_view_count": null,
            "_view_module": "@jupyter-widgets/base",
            "_view_module_version": "1.2.0",
            "_view_name": "LayoutView",
            "align_content": null,
            "align_items": null,
            "align_self": null,
            "border": null,
            "bottom": null,
            "display": null,
            "flex": null,
            "flex_flow": null,
            "grid_area": null,
            "grid_auto_columns": null,
            "grid_auto_flow": null,
            "grid_auto_rows": null,
            "grid_column": null,
            "grid_gap": null,
            "grid_row": null,
            "grid_template_areas": null,
            "grid_template_columns": null,
            "grid_template_rows": null,
            "height": null,
            "justify_content": null,
            "justify_items": null,
            "left": null,
            "margin": null,
            "max_height": null,
            "max_width": null,
            "min_height": null,
            "min_width": null,
            "object_fit": null,
            "object_position": null,
            "order": null,
            "overflow": null,
            "overflow_x": null,
            "overflow_y": null,
            "padding": null,
            "right": null,
            "top": null,
            "visibility": null,
            "width": null
          }
        },
        "1ff792b7602e4ea080e2b7c466b5460a": {
          "model_module": "@jupyter-widgets/controls",
          "model_name": "ProgressStyleModel",
          "model_module_version": "1.5.0",
          "state": {
            "_model_module": "@jupyter-widgets/controls",
            "_model_module_version": "1.5.0",
            "_model_name": "ProgressStyleModel",
            "_view_count": null,
            "_view_module": "@jupyter-widgets/base",
            "_view_module_version": "1.2.0",
            "_view_name": "StyleView",
            "bar_color": null,
            "description_width": ""
          }
        },
        "22e54d7c88124e868c672728ac15fb5d": {
          "model_module": "@jupyter-widgets/base",
          "model_name": "LayoutModel",
          "model_module_version": "1.2.0",
          "state": {
            "_model_module": "@jupyter-widgets/base",
            "_model_module_version": "1.2.0",
            "_model_name": "LayoutModel",
            "_view_count": null,
            "_view_module": "@jupyter-widgets/base",
            "_view_module_version": "1.2.0",
            "_view_name": "LayoutView",
            "align_content": null,
            "align_items": null,
            "align_self": null,
            "border": null,
            "bottom": null,
            "display": null,
            "flex": null,
            "flex_flow": null,
            "grid_area": null,
            "grid_auto_columns": null,
            "grid_auto_flow": null,
            "grid_auto_rows": null,
            "grid_column": null,
            "grid_gap": null,
            "grid_row": null,
            "grid_template_areas": null,
            "grid_template_columns": null,
            "grid_template_rows": null,
            "height": null,
            "justify_content": null,
            "justify_items": null,
            "left": null,
            "margin": null,
            "max_height": null,
            "max_width": null,
            "min_height": null,
            "min_width": null,
            "object_fit": null,
            "object_position": null,
            "order": null,
            "overflow": null,
            "overflow_x": null,
            "overflow_y": null,
            "padding": null,
            "right": null,
            "top": null,
            "visibility": null,
            "width": null
          }
        },
        "b7ae80cb3d4a435b83aa605b4138995b": {
          "model_module": "@jupyter-widgets/controls",
          "model_name": "DescriptionStyleModel",
          "model_module_version": "1.5.0",
          "state": {
            "_model_module": "@jupyter-widgets/controls",
            "_model_module_version": "1.5.0",
            "_model_name": "DescriptionStyleModel",
            "_view_count": null,
            "_view_module": "@jupyter-widgets/base",
            "_view_module_version": "1.2.0",
            "_view_name": "StyleView",
            "description_width": ""
          }
        }
      }
    }
  },
  "cells": [
    {
      "cell_type": "code",
      "execution_count": null,
      "metadata": {
        "id": "yxZyXSmzwcZa",
        "colab": {
          "base_uri": "https://localhost:8080/",
          "height": 237,
          "referenced_widgets": [
            "a186346fce6c4e7ba29220d493d13eee",
            "db3ac3ba56124b2e9e4ad0ed2770c1b5",
            "c3eb79b731d94fac9e3943e87af0adc2",
            "8e9efab23c2f4ecfa34950f44d9ed029",
            "d83583472b704e77947018a08aa46577",
            "68e24a0f72eb4bceae5290f82f951998",
            "dcd536ea2eaa4cd281828d6b7350c4b4",
            "8131f95f2ab94c2794e8a6b7094cd786",
            "d53ed07454e34006a59154f7a57186e9",
            "9d8765de245e4165a97a810ef1d73fe5",
            "e1c1a048e60448ef8c7bf47fc8e3a328",
            "8e20adaf53744326a6e8fa2d0e447ee2",
            "c1b2404eff824b14851bbcec3f37ed85",
            "2980e1eee6c04794909f03ad657bb6e7",
            "79b02236a4d74c018370418a39e598f5",
            "016e0b4d2ec14fe796378e992b41c928",
            "49004d89f0fe41a9b75a6f41faf94db4",
            "80529de548384a1a8e2e4ce372c27103",
            "54a01125ee784c0986582f62665eb5d7",
            "9eedaff7a3124cc2b2a52712135667dd",
            "3e459eab8b644e6ea81df0d40065a084",
            "9a0a2eaf34fe478690fb94bd24678074",
            "de73bb46812c426abafb7a54d1751e1a",
            "1755e869dc174b6f9b30e01605e42a62",
            "087dbcbd6bc4490690be767ba52695f7",
            "4d690259f0944fcfb4f7006d2719d5ce",
            "0af8872636994bb991b5595ffa3a5ce2",
            "6f4cc9cb1c934399aa326db7a557e341",
            "92721c17460b4f22b5710bd57a9107c6",
            "e4126a606bcb4e1da8eae6e0355d3b24",
            "1ff792b7602e4ea080e2b7c466b5460a",
            "22e54d7c88124e868c672728ac15fb5d",
            "b7ae80cb3d4a435b83aa605b4138995b"
          ]
        },
        "outputId": "e011e159-7715-413c-b783-2ee59335869f"
      },
      "outputs": [
        {
          "output_type": "stream",
          "name": "stderr",
          "text": [
            "/usr/local/lib/python3.10/dist-packages/huggingface_hub/utils/_auth.py:94: UserWarning: \n",
            "The secret `HF_TOKEN` does not exist in your Colab secrets.\n",
            "To authenticate with the Hugging Face Hub, create a token in your settings tab (https://huggingface.co/settings/tokens), set it as secret in your Google Colab and restart your session.\n",
            "You will be able to reuse this secret in all of your notebooks.\n",
            "Please note that authentication is recommended but still optional to access public models or datasets.\n",
            "  warnings.warn(\n"
          ]
        },
        {
          "output_type": "display_data",
          "data": {
            "text/plain": [
              "config.json:   0%|          | 0.00/491 [00:00<?, ?B/s]"
            ],
            "application/vnd.jupyter.widget-view+json": {
              "version_major": 2,
              "version_minor": 0,
              "model_id": "a186346fce6c4e7ba29220d493d13eee"
            }
          },
          "metadata": {}
        },
        {
          "output_type": "display_data",
          "data": {
            "text/plain": [
              "vocab.txt:   0%|          | 0.00/2.24M [00:00<?, ?B/s]"
            ],
            "application/vnd.jupyter.widget-view+json": {
              "version_major": 2,
              "version_minor": 0,
              "model_id": "8e20adaf53744326a6e8fa2d0e447ee2"
            }
          },
          "metadata": {}
        },
        {
          "output_type": "display_data",
          "data": {
            "text/plain": [
              "model.safetensors:   0%|          | 0.00/660M [00:00<?, ?B/s]"
            ],
            "application/vnd.jupyter.widget-view+json": {
              "version_major": 2,
              "version_minor": 0,
              "model_id": "de73bb46812c426abafb7a54d1751e1a"
            }
          },
          "metadata": {}
        }
      ],
      "source": [
        "import torch\n",
        "from transformers import AutoTokenizer, AutoModel\n",
        "from torch import nn\n",
        "from torch.utils.data import Dataset, DataLoader, random_split\n",
        "from sklearn.metrics import mean_squared_error\n",
        "import pandas as pd\n",
        "import re\n",
        "\n",
        "# Load pre-trained bangla-bert-base tokenizer and model\n",
        "tokenizer = AutoTokenizer.from_pretrained(\"sagorsarker/bangla-bert-base\")\n",
        "model = AutoModel.from_pretrained(\"sagorsarker/bangla-bert-base\")\n",
        "\n",
        "# Define Multi-Head Attention\n",
        "class MultiHeadAttention(nn.Module):\n",
        "    def __init__(self, d_model, num_heads):\n",
        "        super(MultiHeadAttention, self).__init__()\n",
        "        self.num_heads = num_heads\n",
        "        self.d_model = d_model\n",
        "\n",
        "        assert d_model % self.num_heads == 0\n",
        "\n",
        "        self.depth = d_model // self.num_heads\n",
        "\n",
        "        self.wq = nn.Linear(d_model, d_model)\n",
        "        self.wk = nn.Linear(d_model, d_model)\n",
        "        self.wv = nn.Linear(d_model, d_model)\n",
        "\n",
        "        self.dense = nn.Linear(d_model, d_model)\n",
        "\n",
        "    def split_heads(self, x, batch_size):\n",
        "        \"\"\"Split the last dimension into (num_heads, depth).\n",
        "        Transpose the result such that the shape is (batch_size, num_heads, seq_len, depth)\n",
        "        \"\"\"\n",
        "        x = x.view(batch_size, -1, self.num_heads, self.depth)\n",
        "        return x.permute(0, 2, 1, 3)\n",
        "\n",
        "    def forward(self, v, k, q, mask):\n",
        "        batch_size = q.size(0)\n",
        "\n",
        "        q = self.wq(q)  # (batch_size, seq_len, d_model)\n",
        "        k = self.wk(k)  # (batch_size, seq_len, d_model)\n",
        "        v = self.wv(v)  # (batch_size, seq_len, d_model)\n",
        "\n",
        "        q = self.split_heads(q, batch_size)  # (batch_size, num_heads, seq_len_q, depth)\n",
        "        k = self.split_heads(k, batch_size)  # (batch_size, num_heads, seq_len_k, depth)\n",
        "        v = self.split_heads(v, batch_size)  # (batch_size, num_heads, seq_len_v, depth)\n",
        "\n",
        "        # scaled_attention.shape == (batch_size, num_heads, seq_len_q, depth)\n",
        "        # attention_weights.shape == (batch_size, num_heads, seq_len_q, seq_len_k)\n",
        "        scaled_attention, attention_weights = scaled_dot_product_attention(\n",
        "            q, k, v, mask)\n",
        "\n",
        "        scaled_attention = scaled_attention.permute(0, 2, 1, 3)  # (batch_size, seq_len_q, num_heads, depth)\n",
        "\n",
        "        concat_attention = scaled_attention.reshape(batch_size, -1, self.d_model)  # (batch_size, seq_len_q, d_model)\n",
        "\n",
        "        output = self.dense(concat_attention)  # (batch_size, seq_len_q, d_model)\n",
        "\n",
        "        return output, attention_weights\n",
        "\n",
        "# Define Scaled Dot-Product Attention\n",
        "def scaled_dot_product_attention(q, k, v, mask):\n",
        "    \"\"\"Calculate the attention weights.\n",
        "    q, k, v must have matching leading dimensions.\n",
        "    k, v must have matching penultimate dimension, i.e.: seq_len_k = seq_len_v.\n",
        "    The mask has different shapes depending on its type(padding or look ahead)\n",
        "    but it must be broadcastable for addition.\n",
        "\n",
        "    Args:\n",
        "      q: query shape == (..., seq_len_q, depth)\n",
        "      k: key shape == (..., seq_len_k, depth)\n",
        "      v: value shape == (..., seq_len_v, depth_v)\n",
        "      mask: Float tensor with shape broadcastable\n",
        "            to (..., seq_len_q, seq_len_k). Defaults to None.\n",
        "\n",
        "    Returns:\n",
        "      output, attention_weights\n",
        "    \"\"\"\n",
        "\n",
        "    matmul_qk = torch.matmul(q, k.transpose(-2, -1))  # (..., seq_len_q, seq_len_k)\n",
        "\n",
        "    # scale matmul_qk\n",
        "    dk = torch.tensor(k.size(-1)).type(torch.float32)  # Corrected line\n",
        "    scaled_attention_logits = matmul_qk / torch.math.sqrt(dk)\n",
        "\n",
        "    # add the mask to the scaled tensor.\n",
        "    if mask is not None:\n",
        "        scaled_attention_logits += (mask * -1e9)\n",
        "\n",
        "    # softmax is normalized on the last axis (seq_len_k) so that the scores\n",
        "    # add up to 1.\n",
        "    attention_weights = torch.nn.functional.softmax(scaled_attention_logits, dim=-1)  # (..., seq_len_q, seq_len_k)\n",
        "    output = torch.matmul(attention_weights, v)  # (..., seq_len_q, depth_v)\n",
        "\n",
        "    return output, attention_weights\n",
        "\n",
        "# Define Transformer Encoder Layer\n",
        "class EncoderLayer(nn.Module):\n",
        "    def __init__(self, d_model, num_heads, dff, rate=0.1):\n",
        "        super(EncoderLayer, self).__init__()\n",
        "\n",
        "        self.mha = MultiHeadAttention(d_model, num_heads)\n",
        "        self.ffn = point_wise_feed_forward_network(d_model, dff)\n",
        "\n",
        "        self.layernorm1 = nn.LayerNorm(d_model, eps=1e-6)\n",
        "        self.layernorm2 = nn.LayerNorm(d_model, eps=1e-6)\n",
        "\n",
        "        self.dropout1 = nn.Dropout(rate)\n",
        "        self.dropout2 = nn.Dropout(rate)\n",
        "\n",
        "    def forward(self, x, training, mask):\n",
        "        attn_output, _ = self.mha(x, x, x, mask)  # (batch_size, input_seq_len, d_model)\n",
        "        attn_output = self.dropout1(attn_output) # Remove training argument\n",
        "        out1 = self.layernorm1(x + attn_output)  # (batch_size, input_seq_len, d_model)\n",
        "\n",
        "        ffn_output = self.ffn(out1)  # (batch_size, input_seq_len, d_model)\n",
        "        ffn_output = self.dropout2(ffn_output) # Remove training argument\n",
        "        out2 = self.layernorm2(out1 + ffn_output)  # (batch_size, input_seq_len, d_model)\n",
        "\n",
        "        return out2\n",
        "\n",
        "# Define Point Wise Feed Forward Network\n",
        "def point_wise_feed_forward_network(d_model, dff):\n",
        "    return nn.Sequential(\n",
        "        nn.Linear(d_model, dff),\n",
        "        nn.ReLU(),\n",
        "        nn.Linear(dff, d_model)\n",
        "    )\n",
        "\n",
        "# Define Transformer Encoder\n",
        "class Encoder(nn.Module):\n",
        "    def __init__(self, num_layers, d_model, num_heads, dff, input_vocab_size,\n",
        "                 maximum_position_encoding, rate=0.1):\n",
        "        super(Encoder, self).__init__()\n",
        "\n",
        "        self.d_model = d_model\n",
        "        self.num_layers = num_layers\n",
        "\n",
        "        self.embedding = nn.Embedding(input_vocab_size, d_model)\n",
        "        self.pos_encoding = positional_encoding(maximum_position_encoding,\n",
        "                                                self.d_model)\n",
        "        self.token_type_embeddings = nn.Embedding(2, d_model) # Embedding for token type IDs\n",
        "\n",
        "        self.enc_layers = [EncoderLayer(d_model, num_heads, dff, rate)\n",
        "                           for _ in range(num_layers)]\n",
        "\n",
        "        self.dropout = nn.Dropout(rate)\n",
        "\n",
        "    def forward(self, x, token_type_ids, training, mask):\n",
        "        seq_len = x.size(1)\n",
        "\n",
        "        # adding embedding and position encoding.\n",
        "        x = self.embedding(x)  # (batch_size, input_seq_len, d_model)\n",
        "        x *= torch.math.sqrt(torch.tensor(self.d_model).type_as(x))\n",
        "        x += self.pos_encoding[:, :seq_len, :]\n",
        "\n",
        "        # Add token type embeddings\n",
        "        token_type_embeddings = self.token_type_embeddings(token_type_ids)\n",
        "        x += token_type_embeddings\n",
        "\n",
        "        x = self.dropout(x)  # Remove training argument\n",
        "\n",
        "        for i in range(self.num_layers):\n",
        "            x = self.enc_layers[i](x, training, mask)\n",
        "\n",
        "        return x  # (batch_size, input_seq_len, d_model)\n",
        "\n",
        "# Define Positional Encoding\n",
        "def positional_encoding(position, d_model):\n",
        "    angle_rads = get_angles(torch.arange(position)[:, torch.newaxis],\n",
        "                          torch.arange(d_model)[torch.newaxis, :],\n",
        "                          d_model)\n",
        "\n",
        "    # apply sin to even indices in the array; 2i\n",
        "    angle_rads[:, 0::2] = torch.sin(angle_rads[:, 0::2])\n",
        "\n",
        "    # apply cos to odd indices in the array; 2i+1\n",
        "    angle_rads[:, 1::2] = torch.cos(angle_rads[:, 1::2])\n",
        "\n",
        "    pos_encoding = angle_rads[torch.newaxis, ...]\n",
        "\n",
        "    return pos_encoding.to(torch.float32)\n",
        "\n",
        "def get_angles(pos, i, d_model):\n",
        "    angle_rates = 1 / torch.pow(10000, (2 * (i//2)) / d_model)\n",
        "    return pos * angle_rates\n",
        "\n",
        "# Get sentence embeddings\n",
        "def get_sentence_embeddings(sentences):\n",
        "    \"\"\"\n",
        "    Generates sentence embeddings for a list of sentences using bangla-bert-base.\n",
        "\n",
        "    Args:\n",
        "      sentences: A list of sentences.\n",
        "\n",
        "    Returns:\n",
        "      A list of sentence embeddings (tensors).\n",
        "    \"\"\"\n",
        "    sentence_embeddings = []\n",
        "    for sentence in sentences:\n",
        "        # print(sentence)\n",
        "        inputs = tokenizer(sentence, return_tensors='pt')\n",
        "        outputs = model(**inputs)\n",
        "        # Use the [CLS] token embedding as the sentence embedding\n",
        "        sentence_embedding = outputs.last_hidden_state[:, 0, :]\n",
        "        # sentence_embedding = outputs.last_hidden_state.mean(dim=1)\n",
        "        # print(sentence_embedding)\n",
        "        sentence_embeddings.append(sentence_embedding)\n",
        "    # print(sentence_embeddings)\n",
        "    return sentence_embeddings\n",
        "\n",
        "def preprocess_text(text):\n",
        "    text = re.sub(r'[^\\w\\s]', '', text)  # Remove punctuation\n",
        "    text = text.lower()  # Lowercase\n",
        "    return text\n",
        "\n",
        "\n",
        "# Calculate similarity (updated with Transformer encoder)\n",
        "def calculate_similarity(text1, text2):\n",
        "    \"\"\"\n",
        "    Calculates the cosine similarity between two texts using\n",
        "    Transformer encoder on sentence embeddings.\n",
        "\n",
        "    Args:\n",
        "      text1: The first text.\n",
        "      text2: The second text.\n",
        "\n",
        "    Returns:\n",
        "      The cosine similarity score.\n",
        "    \"\"\"\n",
        "    # Split texts into sentences\n",
        "    sentences1 = text1.split('। ')\n",
        "    sentences2 = text2.split('। ')\n",
        "    # sentences1 = [preprocess_text(sentence) for sentence in text1.split('। ')]\n",
        "    # sentences2 = [preprocess_text(sentence) for sentence in text2.split('। ')]\n",
        "\n",
        "    # Get sentence embeddings\n",
        "    embeddings1 = get_sentence_embeddings(sentences1)\n",
        "    embeddings2 = get_sentence_embeddings(sentences2)\n",
        "\n",
        "    embeddings1 = torch.cat(embeddings1, dim=0)\n",
        "    embeddings2 = torch.cat(embeddings2, dim=0)\n",
        "\n",
        "    mean_embeddings1 = embeddings1.mean(dim=0)\n",
        "    mean_embeddings2 = embeddings2.mean(dim=0)\n",
        "\n",
        "    similarity = torch.nn.functional.cosine_similarity(mean_embeddings1, mean_embeddings2, dim=0)\n",
        "    mean_similarity = similarity.mean()\n",
        "    print(mean_similarity.item())\n",
        "\n",
        "\n",
        "    # --- Tokenization and Input Preparation ---\n",
        "    # input_ids1 = []  # List to store token IDs for text1\n",
        "    # for sentence in sentences1:\n",
        "    #     inputs = tokenizer(sentence, return_tensors='pt')\n",
        "    #     input_ids1.extend(inputs['input_ids'].squeeze().tolist())\n",
        "\n",
        "    # input_ids2 = []  # List to store token IDs for text2\n",
        "    # for sentence in sentences2:\n",
        "    #     inputs = tokenizer(sentence, return_tensors='pt')\n",
        "    #     input_ids2.extend(inputs['input_ids'].squeeze().tolist())\n",
        "\n",
        "    input_ids1, token_type_ids1 = [], []\n",
        "    for i, sentence in enumerate(sentences1):\n",
        "        inputs = tokenizer(sentence, return_tensors='pt')\n",
        "        input_ids1.extend(inputs['input_ids'].squeeze().tolist())\n",
        "        token_type_ids1.extend([i % 2] * len(inputs['input_ids'].squeeze().tolist()))  # Alternate 0 and 1\n",
        "\n",
        "    input_ids2, token_type_ids2 = [], []\n",
        "    for i, sentence in enumerate(sentences2):\n",
        "        inputs = tokenizer(sentence, return_tensors='pt')\n",
        "        input_ids2.extend(inputs['input_ids'].squeeze().tolist())\n",
        "        token_type_ids2.extend([i % 2] * len(inputs['input_ids'].squeeze().tolist()))  # Alternate 0 and 1\n",
        "\n",
        "\n",
        "    # Pad the sequences to the same length\n",
        "    max_length = max(len(input_ids1), len(input_ids2))\n",
        "    input_ids1 = input_ids1 + [0] * (max_length - len(input_ids1))  # Pad with zeros\n",
        "    input_ids2 = input_ids2 + [0] * (max_length - len(input_ids2))  # Pad with zeros\n",
        "    token_type_ids1 = token_type_ids1 + [0] * (max_length - len(token_type_ids1))  # Pad with zeros\n",
        "    token_type_ids2 = token_type_ids2 + [0] * (max_length - len(token_type_ids2))  # Pad with zeros\n",
        "\n",
        "\n",
        "    input_seq1 = torch.tensor([input_ids1])  # Create tensor from token IDs\n",
        "    input_seq2 = torch.tensor([input_ids2])  # Create tensor from token IDs\n",
        "    # --- End of Tokenization and Input Preparation ---\n",
        "\n",
        "    # Create a Transformer encoder\n",
        "    sample_encoder = Encoder(num_layers=16, d_model=768, num_heads=16,\n",
        "                             dff=3072, input_vocab_size=102025,  # Updated vocab size\n",
        "                             maximum_position_encoding=10000,rate=0.3)\n",
        "\n",
        "    # Pass sentence embeddings through the encoder\n",
        "    # out1 = sample_encoder(input_seq1, training=False, mask=None)\n",
        "    # out2 = sample_encoder(input_seq2, training=False, mask=None)\n",
        "    out1 = sample_encoder(input_seq1, token_type_ids=torch.tensor([token_type_ids1]), training=False, mask=None)\n",
        "    out2 = sample_encoder(input_seq2, token_type_ids=torch.tensor([token_type_ids2]), training=False, mask=None)\n",
        "\n",
        "    # print(out1)\n",
        "    # print(out2)\n",
        "\n",
        "    # Use the output of the encoder for similarity calculation\n",
        "    similarity = torch.nn.functional.cosine_similarity(out1.mean(dim=1), out2.mean(dim=1), dim=0)\n",
        "    # distance = torch.dist(out1.mean(dim=1), out2.mean(dim=1))\n",
        "    # similarity = 1 / (1 + distance)  # Convert distance to similarity\n",
        "    # print(similarity)\n",
        "    # Calculate the mean similarity across the embedding dimension\n",
        "    mean_similarity = similarity.mean()\n",
        "\n",
        "    return mean_similarity.item()\n",
        "    # return similarity.item()\n",
        "\n"
      ]
    },
    {
      "cell_type": "code",
      "source": [
        "pip install --upgrade pandas"
      ],
      "metadata": {
        "colab": {
          "base_uri": "https://localhost:8080/"
        },
        "id": "nkeytoRh1yeg",
        "outputId": "bf6b23e2-ec2a-4482-93d4-2dfa9afab440"
      },
      "execution_count": null,
      "outputs": [
        {
          "output_type": "stream",
          "name": "stdout",
          "text": [
            "Requirement already satisfied: pandas in /usr/local/lib/python3.10/dist-packages (2.2.3)\n",
            "Requirement already satisfied: numpy>=1.22.4 in /usr/local/lib/python3.10/dist-packages (from pandas) (1.26.4)\n",
            "Requirement already satisfied: python-dateutil>=2.8.2 in /usr/local/lib/python3.10/dist-packages (from pandas) (2.8.2)\n",
            "Requirement already satisfied: pytz>=2020.1 in /usr/local/lib/python3.10/dist-packages (from pandas) (2024.2)\n",
            "Requirement already satisfied: tzdata>=2022.7 in /usr/local/lib/python3.10/dist-packages (from pandas) (2024.2)\n",
            "Requirement already satisfied: six>=1.5 in /usr/local/lib/python3.10/dist-packages (from python-dateutil>=2.8.2->pandas) (1.17.0)\n"
          ]
        }
      ]
    },
    {
      "cell_type": "code",
      "source": [
        "# Define a custom dataset class\n",
        "class TextSimilarityDataset(Dataset):\n",
        "    def __init__(self, data, tokenizer):\n",
        "        self.data = data\n",
        "        self.tokenizer = tokenizer\n",
        "\n",
        "    def __len__(self):\n",
        "        return len(self.data)\n",
        "\n",
        "    def __getitem__(self, idx):\n",
        "        text1, text2, label = self.data[idx]\n",
        "        return text1, text2, label\n",
        "\n",
        "# Fine-tuning function\n",
        "def fine_tune_model(model, dataset, epochs=3, batch_size=8, learning_rate=2e-5):\n",
        "    \"\"\"\n",
        "    Fine-tunes the model on the provided dataset.\n",
        "\n",
        "    Args:\n",
        "        model: The model to fine-tune.\n",
        "        dataset: The dataset for fine-tuning.\n",
        "        epochs: The number of training epochs.\n",
        "        batch_size: The batch size for training.\n",
        "        learning_rate: The learning rate for the optimizer.\n",
        "    \"\"\"\n",
        "\n",
        "    # Split the dataset into training and validation sets\n",
        "    train_size = int(0.8 * len(dataset))\n",
        "    val_size = len(dataset) - train_size\n",
        "    train_dataset, val_dataset = random_split(dataset, [train_size, val_size])\n",
        "\n",
        "    # Create data loaders\n",
        "    train_dataloader = DataLoader(train_dataset, batch_size=batch_size, shuffle=True)\n",
        "    val_dataloader = DataLoader(val_dataset, batch_size=batch_size)\n",
        "\n",
        "    # Define loss function and optimizer\n",
        "    loss_fn = nn.MSELoss()  # Use Mean Squared Error loss\n",
        "    optimizer = torch.optim.Adam(model.parameters(), lr=learning_rate)\n",
        "\n",
        "    # Training loop\n",
        "    for epoch in range(epochs):\n",
        "        model.train()  # Set the model to training mode\n",
        "        for text1, text2, labels in train_dataloader:\n",
        "            optimizer.zero_grad()  # Clear gradients\n",
        "\n",
        "            # Calculate similarity scores\n",
        "            predictions = []\n",
        "            for t1, t2 in zip(text1, text2):\n",
        "                try:\n",
        "                    prediction = calculate_similarity(t1, t2)\n",
        "                    predictions.append(prediction)\n",
        "                except Exception as e:\n",
        "                    print(f\"Error calculating similarity for texts: '{t1}', '{t2}'\")\n",
        "                    print(f\"Error message: {e}\")\n",
        "\n",
        "            # Convert predictions to tensor after the loop\n",
        "            predictions = torch.tensor(predictions)\n",
        "\n",
        "            # Ensure labels have gradients enabled\n",
        "            labels = torch.tensor(labels, requires_grad=True, dtype=torch.float32)  # Ensure correct type\n",
        "\n",
        "            # Calculate loss\n",
        "            loss = loss_fn(predictions, labels)\n",
        "\n",
        "            loss.backward()  # Backpropagate the loss\n",
        "            optimizer.step()  # Update model parameters\n",
        "\n",
        "        # Validation\n",
        "        model.eval()  # Set the model to evaluation mode\n",
        "        val_predictions = []\n",
        "        val_labels = []\n",
        "        with torch.no_grad():  # Disable gradient calculation\n",
        "            for text1, text2, labels in val_dataloader:\n",
        "                # Calculate similarity scores (handling potential errors)\n",
        "                predictions = []\n",
        "                for t1, t2 in zip(text1, text2):\n",
        "                    try:\n",
        "                        prediction = calculate_similarity(t1, t2)\n",
        "                        predictions.append(prediction)\n",
        "                    except Exception as e:\n",
        "                        print(f\"Error calculating similarity for texts: '{t1}', '{t2}'\")\n",
        "                        print(f\"Error message: {e}\")\n",
        "\n",
        "                # Convert predictions to tensor after the loop\n",
        "                predictions = torch.tensor(predictions)  # Convert to tensor here\n",
        "\n",
        "                # Now you can check for NaN values in the predictions tensor\n",
        "                if torch.isnan(predictions).any():\n",
        "                    print(\"NaN values found in predictions!\")\n",
        "                    print(predictions)\n",
        "\n",
        "                val_predictions.extend(predictions.tolist())\n",
        "                val_labels.extend(labels.tolist())\n",
        "\n",
        "                # Convert predictions to tensor after the loop\n",
        "                predictions = torch.tensor(predictions)\n",
        "\n",
        "                val_predictions.extend(predictions.tolist())\n",
        "                val_labels.extend(labels.tolist())\n",
        "        if torch.isnan(torch.tensor(val_labels)).any():\n",
        "            print(\"NaN values found in labels!\")\n",
        "            print(val_labels)\n",
        "        # Calculate validation MSE\n",
        "        val_mse = mean_squared_error(val_labels, val_predictions)\n",
        "        print(f\"Epoch {epoch + 1}, Validation MSE: {val_mse}\")\n",
        "\n",
        "# Load the dataset with explicit handling of quoted fields\n",
        "df = pd.read_csv('expanded_bangla_similarity_dataset_fixed.csv', sep=',', names=[\"Text 1\", \"Text 2\", \"Similarity Score\"], header=0)\n",
        "# data['Similarity Score'] = data['Similarity Score'].fillna(0.5)\n",
        "\n",
        "# Convert the data to the desired format (ensuring correct data types)\n",
        "dataset = [(row['Text 1'], row['Text 2'], float(row['Similarity Score'])) for _, row in df.iterrows()]\n",
        "\n",
        "# Create the dataset object\n",
        "similarity_dataset = TextSimilarityDataset(dataset, tokenizer)\n",
        "\n",
        "# Fine-tune the model\n",
        "fine_tune_model(model, similarity_dataset)"
      ],
      "metadata": {
        "colab": {
          "base_uri": "https://localhost:8080/"
        },
        "id": "Oa8ZFLHpwqWy",
        "outputId": "84c122b2-2f3c-45fb-9ff4-ecb8bdb19bba"
      },
      "execution_count": null,
      "outputs": [
        {
          "output_type": "stream",
          "name": "stderr",
          "text": [
            "<ipython-input-6-da5781ffcef5>:60: UserWarning: To copy construct from a tensor, it is recommended to use sourceTensor.clone().detach() or sourceTensor.clone().detach().requires_grad_(True), rather than torch.tensor(sourceTensor).\n",
            "  labels = torch.tensor(labels, requires_grad=True, dtype=torch.float32)  # Ensure correct type\n",
            "<ipython-input-6-da5781ffcef5>:96: UserWarning: To copy construct from a tensor, it is recommended to use sourceTensor.clone().detach() or sourceTensor.clone().detach().requires_grad_(True), rather than torch.tensor(sourceTensor).\n",
            "  predictions = torch.tensor(predictions)\n"
          ]
        },
        {
          "output_type": "stream",
          "name": "stdout",
          "text": [
            "Epoch 1, Validation MSE: 0.13728809009963674\n"
          ]
        },
        {
          "output_type": "stream",
          "name": "stderr",
          "text": [
            "<ipython-input-6-da5781ffcef5>:60: UserWarning: To copy construct from a tensor, it is recommended to use sourceTensor.clone().detach() or sourceTensor.clone().detach().requires_grad_(True), rather than torch.tensor(sourceTensor).\n",
            "  labels = torch.tensor(labels, requires_grad=True, dtype=torch.float32)  # Ensure correct type\n",
            "<ipython-input-6-da5781ffcef5>:96: UserWarning: To copy construct from a tensor, it is recommended to use sourceTensor.clone().detach() or sourceTensor.clone().detach().requires_grad_(True), rather than torch.tensor(sourceTensor).\n",
            "  predictions = torch.tensor(predictions)\n"
          ]
        },
        {
          "output_type": "stream",
          "name": "stdout",
          "text": [
            "Epoch 2, Validation MSE: 0.140674499970779\n"
          ]
        },
        {
          "output_type": "stream",
          "name": "stderr",
          "text": [
            "<ipython-input-6-da5781ffcef5>:60: UserWarning: To copy construct from a tensor, it is recommended to use sourceTensor.clone().detach() or sourceTensor.clone().detach().requires_grad_(True), rather than torch.tensor(sourceTensor).\n",
            "  labels = torch.tensor(labels, requires_grad=True, dtype=torch.float32)  # Ensure correct type\n",
            "<ipython-input-6-da5781ffcef5>:96: UserWarning: To copy construct from a tensor, it is recommended to use sourceTensor.clone().detach() or sourceTensor.clone().detach().requires_grad_(True), rather than torch.tensor(sourceTensor).\n",
            "  predictions = torch.tensor(predictions)\n"
          ]
        },
        {
          "output_type": "stream",
          "name": "stdout",
          "text": [
            "Epoch 3, Validation MSE: 0.14003797966567483\n"
          ]
        }
      ]
    },
    {
      "cell_type": "code",
      "source": [
        "text1 = \"বই পড়া একটি ভালো অভ্যাস। বই পড়লে জ্ঞান বৃদ্ধি পায়। বই পড়লে মন ভালো থাকে। বই পড়লে আমরা নতুন নতুন জিনিস শিখতে পারি। বই পড়লে আমাদের চিন্তাশক্তি বৃদ্ধি পায়। বই পড়লে আমরা বিশ্ব সম্পর্কে জানতে পারি। বই পড়লে আমরা অন্যদের সাথে ভালোভাবে যোগাযোগ করতে পারি। বই পড়লে আমরা নিজেদেরকে আরও ভালোভাবে বুঝতে পারি।\"\n",
        "text2 = \"বই পড়া  আমাদের  জ্ঞানের  জগৎ  কে  বিস্তৃত  করে।  বই  আমাদের  নতুন  নতুন  চিন্তার  জন্ম  দেয়।  বই  আমাদের  মন  কে  উন্মুক্ত  করে  দেয়।  বই  আমাদের  সৃজনশীলতাকে  উদ্দীপিত  করে।  বই  আমাদের  সমালোচনামূলক  চিন্তাভাবনা  করতে  শেখায়।  বই  আমাদের  সমাজ  ও  বিশ্ব  সম্পর্কে  সচেতন  করে  তোলে।\"\n",
        "\n",
        "similarity_score = calculate_similarity(text1, text2)\n",
        "print(f\"Similarity Score: {similarity_score}\")"
      ],
      "metadata": {
        "colab": {
          "base_uri": "https://localhost:8080/"
        },
        "id": "zjwWv6ikCopw",
        "outputId": "9f04448f-bd27-40ef-d489-95bedf707b0b"
      },
      "execution_count": null,
      "outputs": [
        {
          "output_type": "stream",
          "name": "stdout",
          "text": [
            "0.8886659741401672\n",
            "Similarity Score: 0.71875\n"
          ]
        }
      ]
    },
    {
      "cell_type": "code",
      "source": [
        "text1 = \"বাংলাদেশের  সংস্কৃতি  অনেক  সমৃদ্ধ  এবং  বৈচিত্র্যময়।  এ  দেশের  মানুষ  বিভিন্ন  ধর্ম,  বর্ণ  ও  গোষ্ঠীর।  তাদের  মধ্যে  রয়েছে  মুসলিম,  হিন্দু,  বৌদ্ধ,  খ্রিস্টান  ও  উপজাতীয়  গোষ্ঠী।  বাংলাদেশের  সংস্কৃতিতে  রয়েছে  বিভিন্ন  উৎসব,  পার্বণ,  খাবার,  পোশাক,  সঙ্গীত,  নৃত্য  ও  সাহিত্য।  বাংলাদেশের  মানুষ  খুব  ই  আতিথেয়ী  এবং  সামাজিক।  তারা  বিভিন্ন  সামাজিক  অনুষ্ঠান  ও  উৎসবে  অংশগ্রহণ  করে।  বাংলাদেশের  সংস্কৃতি  একটি  গুরুত্বপূর্ণ  অংশ  এ  দেশের  জাতীয়  ঐক্য  ও  ঐতিহ্যের।\"\n",
        "text2 = \"ভারতের  সংস্কৃতি  ও  অনেক  সমৃদ্ধ  এবং  বৈচিত্র্যময়।  এ  দেশের  মানুষ  ও  বিভিন্ন  ধর্ম,  বর্ণ  ও  গোষ্ঠীর।  তাদের  মধ্যে  রয়েছে  হিন্দু,  মুসলিম,  শিখ,  খ্রিস্টান,  জৈন  ও  অন্যান্য  ধর্মের  মানুষ।  ভারতের  সংস্কৃতিতে  রয়েছে  বিভিন্ন  উৎসব,  পার্বণ,  খাবার,  পোশাক,  সঙ্গীত,  নৃত্য  ও  সাহিত্য।  ভারতের  মানুষ  ও  খুব  ই  আতিথেয়ী  এবং  সামাজিক।  তারা  বিভিন্ন  সামাজিক  অনুষ্ঠান  ও  উৎসবে  অংশগ্রহণ  করে।  ভারতের  সংস্কৃতি  একটি  গুরুত্বপূর্ণ  অংশ  এ  দেশের  জাতীয়  ঐক্য  ও  ঐতিহ্যের।\"\n",
        "\n",
        "similarity_score = calculate_similarity(text1, text2)\n",
        "print(f\"Similarity Score: {similarity_score}\")"
      ],
      "metadata": {
        "colab": {
          "base_uri": "https://localhost:8080/"
        },
        "id": "M4TsWG7-O_hQ",
        "outputId": "273b82b5-f79f-4e51-f987-22a333d9de0f"
      },
      "execution_count": null,
      "outputs": [
        {
          "output_type": "stream",
          "name": "stdout",
          "text": [
            "0.9373860359191895\n",
            "Similarity Score: 0.8098958134651184\n"
          ]
        }
      ]
    },
    {
      "cell_type": "code",
      "source": [
        "text1 = \"শিক্ষা  মানুষের  মৌলিক  অধিকার।  শিক্ষা  মানুষকে  সচেতন  নাগরিক  হিসেবে  গড়ে  তোলে।  শিক্ষিত  মানুষ  সমাজের  উন্নয়নে  অবদান  রাখতে  পারে।  শিক্ষা  মানুষকে  আত্মনির্ভরশীল  হতে  সাহায্য  করে।  শিক্ষার  মাধ্যমে  মানুষ  জ্ঞান  অর্জন  করে  এবং  সেই  জ্ঞান  ব্যবহার  করে  সমাজের  উন্নয়নে  কাজ  করে।  শিক্ষা  মানুষকে  সুন্দর  ভাবে  বেঁচে  থাকতে  শেখায়।\"\n",
        "text2 = \"স্বাস্থ্য  মানুষের  সবচেয়ে  বড়  সম্পদ।  সুস্থ  শরীরে  সুস্থ  মন  বাস  করে।  সুস্থ  মানুষ  কাজ  করতে  পারে  এবং  সমাজের  উন্নয়নে  অংশগ্রহণ  করতে  পারে।  স্বাস্থ্যের  জন্য  পুষ্টিকর  খাবার  খাওয়া  এবং  নিয়মিত  ব্যায়াম  করা  প্রয়োজন।  স্বাস্থ্য  ভালো  থাকলে  মানুষ  দীর্ঘায়ু  লাভ  করে  এবং  সুখী  জীবন  যাপন  করতে  পারে।  স্বাস্থ্য  ভালো  থাকলে  মানুষ  সমাজের  জন্য  কাজ  করতে  পারে।\"\n",
        "\n",
        "similarity_score = calculate_similarity(text1, text2)\n",
        "print(f\"Similarity Score: {similarity_score}\")"
      ],
      "metadata": {
        "colab": {
          "base_uri": "https://localhost:8080/"
        },
        "id": "SczcG1cPBkdF",
        "outputId": "a61932c3-e8be-4448-e09d-7c412b348a58"
      },
      "execution_count": null,
      "outputs": [
        {
          "output_type": "stream",
          "name": "stdout",
          "text": [
            "0.8490257263183594\n",
            "Similarity Score: 0.7213541865348816\n"
          ]
        }
      ]
    },
    {
      "cell_type": "code",
      "source": [
        "text1 = \"পরিবেশ  দূষণ  একটি  গুরুতর  সমস্যা।  পরিবেশ  দূষণের  ফলে  মানুষের  স্বাস্থ্যের  ক্ষতি  হয়।  পরিবেশ  দূষণ  রোধ  করার  জন্য  সবাইকে  সচেতন  হতে  হবে।  পরিবেশ  संरक्षण  করার  জন্য  বৃক্ষরোপণ  করা  উচিত।  পরিবেশ  দূষণ  রোধে  আইন  প্রণয়ন  এবং  তা  বাস্তবায়ন  করা  প্রয়োজন।  পরিবেশ  দূষণ  রোধে  সরকার  বিভিন্ন  পদক্ষেপ  গ্রহণ  করেছে।  পরিবেশ  দূষণ  রোধে  গণসচেতনতা  বৃদ্ধি  করা  প্রয়োজন।  পরিবেশ  দূষণ  রোধে  শিল্প  কারখানাগুলোকে  বর্জ্য  পরিশোধন  করতে  হবে।\"\n",
        "text2 = \"জলবায়ু  পরিবর্তন  একটি  বৈশ্বিক  সমস্যা।  জলবায়ু  পরিবর্তনের  ফলে  বিশ্বের  তাপমাত্রা  বৃদ্ধি  পাচ্ছে।  বরফ  গলছে।  সমুদ্রের  পানি  বৃদ্ধি  পাচ্ছে।  এই  জন্য  অনেক  দেশ  জলমগ্ন  হওয়ার  ঝুঁকিতে  আছে।  জলবায়ু  পরিবর্তন  রোধ  করার  জন্য  সবাইকে  এগিয়ে  আসতে  হবে।  জলবায়ু  পরিবর্তন  রোধে  বিশ্ব  নেতারা  বিভিন্ন  পদক্ষেপ  গ্রহণ  করেছেন।  জলবায়ু  পরিবর্তন  রোধে  গণসচেতনতা  বৃদ্ধি  করা  প্রয়োজন।  জলবায়ু  পরিবর্তন  রোধে  কার্বন  নিঃসরণ  কমাতে  হবে।\"\n",
        "\n",
        "similarity_score = calculate_similarity(text1, text2)\n",
        "print(f\"Similarity Score: {similarity_score}\")"
      ],
      "metadata": {
        "colab": {
          "base_uri": "https://localhost:8080/"
        },
        "id": "FsLcpsx-B5CW",
        "outputId": "e127db35-d750-40dc-f7eb-00f497662bf6"
      },
      "execution_count": null,
      "outputs": [
        {
          "output_type": "stream",
          "name": "stdout",
          "text": [
            "0.8492242097854614\n",
            "Similarity Score: 0.7526041865348816\n"
          ]
        }
      ]
    },
    {
      "cell_type": "code",
      "source": [
        "text1 = \"খরা  একটি  প্রাকৃতিক  দুর্যোগ  যা  কোন  অঞ্চলে  দীর্ঘ  সময়  ধরে  বৃষ্টিপাতের  অভাবের  কারণে  ঘটে।  খরার  ফলে  মাটি  শুষ্ক  হয়ে  যায়,  ফসল  নষ্ট  হয়  এবং  পানির  সংকট  দেখা  দেয়।  খরা  মানুষ  ও  প্রাণীদের  জীবনযাত্রায়  বিরূপ  প্রভাব  ফেলে।  খরা  অঞ্চলে  জীববৈচিত্র্য  হ্রাস  পায়  এবং  পরিবেশের  ওপর  নেতিবাচক  প্রভাব  ফেলে।\"\n",
        "text2 = \"বন্যা  একটি  প্রাকৃতিক  দুর্যোগ  যা  অতিরিক্ত  বৃষ্টিপাত  বা  নদীর  পানি  বৃদ্ধির  কারণে  ঘটে।  বন্যার  ফলে  বাড়িঘর  ডুবে  যায়,  ফসলের  ক্ষতি  হয়  এবং  মানুষ  ও  প্রাণী  জীবনের  ঝুঁকিতে  পড়ে।  বন্যা  পরিবেশের  ওপর  বিরূপ  প্রভাব  ফেলে।  বন্যার  ফলে  পানিবাহিত  রোগ  বৃদ্ধি  পায়  এবং  অর্থনৈতিক  ক্ষতি  হয়।\"\n",
        "\n",
        "similarity_score = calculate_similarity(text1, text2)\n",
        "print(f\"Similarity Score: {similarity_score}\")"
      ],
      "metadata": {
        "colab": {
          "base_uri": "https://localhost:8080/"
        },
        "id": "h8R6u1pyCOfp",
        "outputId": "4ae50211-572a-4ecd-db8f-b2509053bcde"
      },
      "execution_count": null,
      "outputs": [
        {
          "output_type": "stream",
          "name": "stdout",
          "text": [
            "0.9146221280097961\n",
            "Similarity Score: 0.7708333134651184\n"
          ]
        }
      ]
    },
    {
      "cell_type": "code",
      "source": [
        "text1 = \"বাংলাদেশ  একটি  নদীমাতৃক  দেশ।  এখানে  অসংখ্য  নদী  প্রবাহিত  হয়,  যা  দেশের  অর্থনীতি  এবং  সংস্কৃতিতে  গুরুত্বপূর্ণ  ভূমিকা  পালন  করে।  নদীগুলো  কৃষি,  মৎস্য  চাষ,  যোগাযোগ  এবং  পরিবহনের  জন্য  অত্যাবশ্যক।  নদী  বাংলাদেশের  জীবনধারার  একটি  অবিচ্ছেদ্য  অংশ।  নদী  বাংলাদেশের  প্রাকৃতিক  সৌন্দর্য  বৃদ্ধি  করে  এবং  জীববৈচিত্র্য  সংরক্ষণে  গুরুত্বপূর্ণ  ভূমিকা  পালন  করে।\"\n",
        "text2 = \"বাংলাদেশের  নদ-নদী  দেশের  অর্থনীতিতে  গুরুত্বপূর্ণ  ভূমিকা  পালন  করে।  নদী  থেকে  মাছ  আহরণ  এবং  কৃষিকাজের  জন্য  পানি  সরবরাহ  করা  হয়।  নদীপথ  যোগাযোগ  ব্যবস্থার  একটি  গুরুত্বপূর্ণ  অংশ।  নদী  বাংলাদেশের  প্রাকৃতিক  সৌন্দর্য  বৃদ্ধি  করে।  নদী  বাংলাদেশের  সংস্কৃতি  ও  ঐতিহ্যের  একটি  অবিচ্ছেদ্য  অংশ।\"\n",
        "\n",
        "similarity_score = calculate_similarity(text1, text2)\n",
        "print(f\"Similarity Score: {similarity_score}\")"
      ],
      "metadata": {
        "colab": {
          "base_uri": "https://localhost:8080/"
        },
        "id": "LT8Ob9PFCZop",
        "outputId": "1cd0a0dc-045e-4695-8fe1-3b39ebef3029"
      },
      "execution_count": null,
      "outputs": [
        {
          "output_type": "stream",
          "name": "stdout",
          "text": [
            "0.9372631907463074\n",
            "Similarity Score: 0.6901041865348816\n"
          ]
        }
      ]
    },
    {
      "cell_type": "code",
      "source": [
        "text1 = \"বাংলাদেশের  জলবায়ু  উষ্ণ  ও  আর্দ্র।  এখানে  ছয়টি  ঋতু  আছে:  গ্রীষ্ম,  বর্ষা,  শরৎ,  হেমন্ত,  শীত  ও  বসন্ত।  প্রতিটি  ঋতুর  আলাদা  আলাদা  সৌন্দর্য  আছে।  বাংলাদেশের  জলবায়ু  কৃষির  জন্য  উপযোগী।  বাংলাদেশ  একটি  নদীমাতৃক  দেশ  হওয়ায়  এখানে  প্রচুর  বৃষ্টিপাত  হয়।  বর্ষাকালে  প্রায়ই  বন্যা  হয়।  গ্রীষ্মকালে  তাপমাত্রা  বেশ  বেড়ে  যায়।  শীতকালে  তাপমাত্রা  কমে  যায়  এবং  আবহাওয়া  শুষ্ক  থাকে।\"\n",
        "text2 = \"জলবায়ু  পরিবর্তনের  ফলে  বাংলাদেশের  জলবায়ুতে  বিভিন্ন  পরিবর্তন  দেখা  দেচ্ছে।  তাপমাত্রা  বৃদ্ধি  পাচ্ছে।  বৃষ্টিপাতের  পরিমাণ  ও  ধরণ  পরিবর্তিত  হচ্ছে।  সমুদ্রপৃষ্ঠের  উচ্চতা  বৃদ্ধি  পাচ্ছে।  এসব  পরিবর্তনের  ফলে  বাংলাদেশে  প্রাকৃতিক  দুর্যোগ  বৃদ্ধি  পাচ্ছে।  জলবায়ু  পরিবর্তনের  ফলে  বাংলাদেশের  কৃষি,  মৎস্য  এবং  অন্যান্য  খাত  ক্ষতিগ্রস্ত  হচ্ছে।\"\n",
        "\n",
        "similarity_score = calculate_similarity(text1, text2)\n",
        "print(f\"Similarity Score: {similarity_score}\")"
      ],
      "metadata": {
        "colab": {
          "base_uri": "https://localhost:8080/"
        },
        "id": "TGipCf46C5GU",
        "outputId": "97638b31-c25b-41e1-9b0c-06b22f37cdc3"
      },
      "execution_count": null,
      "outputs": [
        {
          "output_type": "stream",
          "name": "stdout",
          "text": [
            "Similarity Score: 0.7213541865348816\n"
          ]
        }
      ]
    },
    {
      "cell_type": "code",
      "source": [
        "text1 = \"সুতরাং একদম ঘাবড়াবেন না।\"\n",
        "text2 = \"তাই একদম ভয় পেও না।\"\n",
        "'''from there the process is started its called calculate_similarity with two input text'''\n",
        "similarity_score = calculate_similarity(text1, text2)\n",
        "print(f\"Similarity Score: {similarity_score}\")"
      ],
      "metadata": {
        "colab": {
          "base_uri": "https://localhost:8080/"
        },
        "id": "BcMyrf6Cw3-d",
        "outputId": "942e7f2b-235e-4db0-a6b5-06fdae30d294"
      },
      "execution_count": null,
      "outputs": [
        {
          "output_type": "stream",
          "name": "stdout",
          "text": [
            "0.7399076819419861\n",
            "Similarity Score: 0.4609375\n"
          ]
        }
      ]
    },
    {
      "cell_type": "code",
      "source": [
        "text1 = \"ঘনবসতিপূর্ণ দেশ যেখানে প্রাকৃতিক সম্পদের প্রাচুর্য বিদ্যমান।\"\n",
        "text2 = \"জনবহুল  রাষ্ট্র  যেখানে  প্রচুর  প্রাকৃতিক  সম্পদ  আছে।\"\n",
        "similarity_score = calculate_similarity(text1, text2)\n",
        "print(f\"Similarity Score: {similarity_score}\")"
      ],
      "metadata": {
        "colab": {
          "base_uri": "https://localhost:8080/"
        },
        "id": "0g5yETAtkFWm",
        "outputId": "b5441ce7-5e4f-40c1-f958-2d42a4a3e4eb"
      },
      "execution_count": null,
      "outputs": [
        {
          "output_type": "stream",
          "name": "stdout",
          "text": [
            "0.6565853357315063\n",
            "Similarity Score: 0.6041666865348816\n"
          ]
        }
      ]
    },
    {
      "cell_type": "code",
      "source": [
        "text1 = \"বাংলাদেশ একটি ঘনবসতিপূর্ণ দেশ যেখানে প্রাকৃতিক সম্পদের প্রাচুর্য বিদ্যমান। এই দেশের অর্থনীতি মূলত কৃষি  নির্ভর, যদিও  গার্মেন্টস  শিল্প  এবং  অন্যান্য  খাত  গুরুত্বপূর্ণ  ভূমিকা  পালন  করে।  বাংলাদেশের  মানুষ  কঠোর  পরিশ্রমী  এবং  তারা  দেশের  অগ্রগতির  জন্য  নিষ্ঠার  সাথে  কাজ  করে।  এ  দেশের  সংস্কৃতি  অনেক  সমৃদ্ধ  এবং  এখানে  বিভিন্ন  ধর্ম  ও  বর্ণের  মানুষ  একসাথে  বাস  করে।  বাংলাদেশ  প্রাকৃতিক  সৌন্দর্যে  ভরা  একটি  দেশ  যেখানে  অনেক  নদ-নদী,  হাওর-বাঁওড়  এবং  সবুজ  শ্যামল  মাঠ  রয়েছে।  এ  দেশের  মানুষ  তাদের  ঐতিহ্য  ও  সংস্কৃতি  নিয়ে  গর্বিত।\"\n",
        "text2 = \"বাংলাদেশ  একটি  জনবহুল  রাষ্ট্র  যেখানে  প্রচুর  প্রাকৃতিক  সম্পদ  আছে।  এই  রাষ্ট্রের  অর্থনীতি  প্রধানত  কৃষি  কেন্দ্রিক,  যদিও  পোশাক  শিল্প  এবং  অন্যান্য  ক্ষেত্র  গুরুত্বপূর্ণ  ভূমিকা  পালন  করে  থাকে।  বাংলাদেশের  নাগরিকরা  অত্যন্ত  পরিশ্রমী  এবং  তারা  রাষ্ট্রের  উন্নয়নের  জন্য  আন্তরিকতার  সাথে  কর্ম  করে।  এই  রাষ্ট্রের  সংস্কৃতি  অত্যন্ত  সমৃদ্ধ  এবং  এখানে  নানা  ধর্ম  ও  বর্ণের  লোক  একত্রে  বসবাস  করে।  বাংলাদেশ  প্রাকৃতিক  রূপ-লাবণ্যে  পরিপূর্ণ  একটি  রাষ্ট্র  যেখানে  অনেক  নদী,  জলাভূমি  এবং  সবুজ  ক্ষেত  আছে।  এই  রাষ্ট্রের  জনগণ  তাদের  ঐতিহ্য  ও  সংস্কৃতি  নিয়ে  গর্বিত।\"\n",
        "\n",
        "similarity_score = calculate_similarity(text1, text2)\n",
        "print(f\"Similarity Score: {similarity_score}\")"
      ],
      "metadata": {
        "id": "WF-CA_6M26Xq",
        "colab": {
          "base_uri": "https://localhost:8080/"
        },
        "outputId": "4c25ab8f-88e8-4be6-a08f-71b545404bea"
      },
      "execution_count": null,
      "outputs": [
        {
          "output_type": "stream",
          "name": "stdout",
          "text": [
            "0.8864535093307495\n",
            "Similarity Score: 0.7734375\n"
          ]
        }
      ]
    },
    {
      "cell_type": "code",
      "source": [
        "text1 = \"বাংলাদেশ,  একটি  নবীন  প্রজাতন্ত্র,  ১৯৭১  সালে  একটি  রক্তক্ষয়ী  স্বাধীনতা  যুদ্ধের  মাধ্যমে  জন্ম  লাভ  করে।  এই  ক্ষুদ্র  দেশটি  ঘনবসতিপূর্ণ  এবং  প্রাকৃতিক  সম্পদের  অভাব  থাকা  সত্ত্বেও  অর্থনৈতিক  উন্নয়নের  পথে  অগ্রসর  হচ্ছে।  বাংলাদেশের  অর্থনীতি  মূলত  কৃষি  নির্ভর,  যদিও  গার্মেন্টস  শিল্প  এবং  রেমিট্যান্স  গুরুত্বপূর্ণ  ভূমিকা  পালন  করে।  বাংলাদেশের  মানুষ  কঠোর  পরিশ্রমী  এবং  তারা  দেশের  অগ্রগতির  জন্য  নিষ্ঠার  সাথে  কাজ  করে।  এ  দেশের  সংস্কৃতি  অনেক  সমৃদ্ধ  এবং  এখানে  বিভিন্ন  ধর্ম  ও  বর্ণের  মানুষ  একসাথে  বাস  করে।  বাংলাদেশ  প্রাকৃতিক  সৌন্দর্যে  ভরা  একটি  দেশ  যেখানে  অনেক  নদ-নদী,  হাওর-বাঁওড়  এবং  সবুজ  শ্যামল  মাঠ  রয়েছে।  এ  দেশের  মানুষ  তাদের  ঐতিহ্য  ও  সংস্কৃতি  নিয়ে  গর্বিত।  বাংলাদেশ  একটি  গণতান্ত্রিক  দেশ  যেখানে  জনগণ  তাদের  নির্বাচিত  প্রতিনিধিদের  মাধ্যমে  দেশ  পরিচালনা  করে।  বাংলাদেশ  বিভিন্ন  আন্তর্জাতিক  সংস্থার  সদস্য  এবং  বিশ্ব  শান্তি  ও  উন্নয়নে  অবদান  রাখছে।  বাংলাদেশ  একটি  উন্নয়নশীল  দেশ  এবং  এ  দেশের  মানুষ  শিক্ষা,  স্বাস্থ্য  ও  অন্যান্য  ক্ষেত্রে  উন্নতি  লাভ  করছে।  বাংলাদেশ  একটি  সম্ভাবনাময়  দেশ  এবং  এ  দেশের  ভবিষ্যৎ  উজ্জ্বল।বাংলাদেশ একটি ঘনবসতিপূর্ণ দেশ যেখানে প্রাকৃতিক সম্পদের প্রাচুর্য বিদ্যমান। এই দেশের অর্থনীতি মূলত কৃষি  নির্ভর, যদিও  গার্মেন্টস  শিল্প  এবং  অন্যান্য  খাত  গুরুত্বপূর্ণ  ভূমিকা  পালন  করে।  বাংলাদেশের  মানুষ  কঠোর  পরিশ্রমী  এবং  তারা  দেশের  অগ্রগতির  জন্য  নিষ্ঠার  সাথে  কাজ  করে।  এ  দেশের  সংস্কৃতি  অনেক  সমৃদ্ধ  এবং  এখানে  বিভিন্ন  ধর্ম  ও  বর্ণের  মানুষ  একসাথে  বাস  করে।  বাংলাদেশ  প্রাকৃতিক  সৌন্দর্যে  ভরা  একটি  দেশ  যেখানে  অনেক  নদ-নদী,  হাওর-বাঁওড়  এবং  সবুজ  শ্যামল  মাঠ  রয়েছে।  এ  দেশের  মানুষ  তাদের  ঐতিহ্য  ও  সংস্কৃতি  নিয়ে  গর্বিত।\"\n",
        "text2 = \"স্বাধীনতা  যুদ্ধের  মাধ্যমে  ১৯৭১  সালে  প্রতিষ্ঠিত  বাংলাদেশ  একটি  তরুণ  প্রজাতন্ত্র।  জনবহুল  এবং  প্রাকৃতিক  সম্পদের  দিক  থেকে  অপেক্ষাকৃত  দরিদ্র  হওয়া  সত্ত্বেও  এই  ছোট্ট  রাষ্ট্র  অর্থনৈতিক  অগ্রগতির  দিকে  এগিয়ে  চলছে।  বাংলাদেশের  অর্থনীতি  প্রধানত  কৃষি  কেন্দ্রিক,  যদিও  পোশাক  শিল্প  এবং  প্রবাসী  আয়  গুরুত্বপূর্ণ  ভূমিকা  পালন  করে  থাকে।  বাংলাদেশের  নাগরিকরা  অত্যন্ত  পরিশ্রমী  এবং  তারা  রাষ্ট্রের  উন্নয়নের  জন্য  আন্তরিকতার  সাথে  কর্ম  করে।  এই  রাষ্ট্রের  সংস্কৃতি  অত্যন্ত  সমৃদ্ধ  এবং  এখানে  নানা  ধর্ম  ও  বর্ণের  লোক  একত্রে  বসবাস  করে।  বাংলাদেশ  প্রাকৃতিক  রূপ-লাবণ্যে  পরিপূর্ণ  একটি  রাষ্ট্র  যেখানে  অনেক  নদী,  জলাভূমি  এবং  সবুজ  ক্ষেত  আছে।  এই  রাষ্ট্রের  জনগণ  তাদের  ঐতিহ্য  ও  সংস্কৃতি  নিয়ে  গর্বিত।  বাংলাদেশ  একটি  গণতান্ত্রিক  রাষ্ট্র  যেখানে  জনগণ  তাদের  নির্বাচিত  প্রতিনিধিদের  মাধ্যমে  রাষ্ট্র  পরিচালনা  করে।  বাংলাদেশ  বিভিন্ন  আন্তর্জাতিক  সংগঠনের  সদস্য  এবং  বিশ্ব  শান্তি  ও  উন্নয়নে  অবদান  রাখছে।  বাংলাদেশ  একটি  উন্নয়নশীল  রাষ্ট্র  এবং  এ  রাষ্ট্রের  জনগণ  শিক্ষা,  স্বাস্থ্য  ও  অন্যান্য  ক্ষেত্রে  উন্নতি  লাভ  করছে।  বাংলাদেশ  একটি  সম্ভাবনাময়  রাষ্ট্র  এবং  এ  রাষ্ট্রের  ভবিষ্যৎ  উজ্জ্বল। বাংলাদেশ  একটি  জনবহুল  রাষ্ট্র  যেখানে  প্রচুর  প্রাকৃতিক  সম্পদ  আছে।  এই  রাষ্ট্রের  অর্থনীতি  প্রধানত  কৃষি  কেন্দ্রিক,  যদিও  পোশাক  শিল্প  এবং  অন্যান্য  ক্ষেত্র  গুরুত্বপূর্ণ  ভূমিকা  পালন  করে  থাকে।  বাংলাদেশের  নাগরিকরা  অত্যন্ত  পরিশ্রমী  এবং  তারা  রাষ্ট্রের  উন্নয়নের  জন্য  আন্তরিকতার  সাথে  কর্ম  করে।  এই  রাষ্ট্রের  সংস্কৃতি  অত্যন্ত  সমৃদ্ধ  এবং  এখানে  নানা  ধর্ম  ও  বর্ণের  লোক  একত্রে  বসবাস  করে।  বাংলাদেশ  প্রাকৃতিক  রূপ-লাবণ্যে  পরিপূর্ণ  একটি  রাষ্ট্র  যেখানে  অনেক  নদী,  জলাভূমি  এবং  সবুজ  ক্ষেত  আছে।  এই  রাষ্ট্রের  জনগণ  তাদের  ঐতিহ্য  ও  সংস্কৃতি  নিয়ে  গর্বিত।\"\n",
        "\n",
        "similarity_score = calculate_similarity(text1, text2)\n",
        "print(f\"Similarity Score: {similarity_score}\")"
      ],
      "metadata": {
        "colab": {
          "base_uri": "https://localhost:8080/"
        },
        "id": "Gy05tGw2hJ71",
        "outputId": "b6dc4afe-1465-4de7-f2ac-af53aa110c7d"
      },
      "execution_count": null,
      "outputs": [
        {
          "output_type": "stream",
          "name": "stdout",
          "text": [
            "0.9328982830047607\n",
            "Similarity Score: 0.8255208134651184\n"
          ]
        }
      ]
    },
    {
      "cell_type": "code",
      "source": [
        "df = pd.read_csv('expanded_bangla_similarity_dataset_fixed.csv', sep=',', names=[\"Text 1\", \"Text 2\", \"Similarity Score\"], header=0)\n",
        "print(df.head().to_markdown(index=False, numalign=\"left\", stralign=\"left\"))"
      ],
      "metadata": {
        "id": "105NvEvFQgOX",
        "colab": {
          "base_uri": "https://localhost:8080/",
          "height": 391
        },
        "outputId": "d5408ed6-c304-4006-c2b7-06f91c66519f"
      },
      "execution_count": null,
      "outputs": [
        {
          "output_type": "error",
          "ename": "FileNotFoundError",
          "evalue": "[Errno 2] No such file or directory: 'expanded_bangla_similarity_dataset_fixed.csv'",
          "traceback": [
            "\u001b[0;31m---------------------------------------------------------------------------\u001b[0m",
            "\u001b[0;31mFileNotFoundError\u001b[0m                         Traceback (most recent call last)",
            "\u001b[0;32m<ipython-input-8-23228d28cd81>\u001b[0m in \u001b[0;36m<cell line: 1>\u001b[0;34m()\u001b[0m\n\u001b[0;32m----> 1\u001b[0;31m \u001b[0mdf\u001b[0m \u001b[0;34m=\u001b[0m \u001b[0mpd\u001b[0m\u001b[0;34m.\u001b[0m\u001b[0mread_csv\u001b[0m\u001b[0;34m(\u001b[0m\u001b[0;34m'expanded_bangla_similarity_dataset_fixed.csv'\u001b[0m\u001b[0;34m,\u001b[0m \u001b[0msep\u001b[0m\u001b[0;34m=\u001b[0m\u001b[0;34m','\u001b[0m\u001b[0;34m,\u001b[0m \u001b[0mnames\u001b[0m\u001b[0;34m=\u001b[0m\u001b[0;34m[\u001b[0m\u001b[0;34m\"Text 1\"\u001b[0m\u001b[0;34m,\u001b[0m \u001b[0;34m\"Text 2\"\u001b[0m\u001b[0;34m,\u001b[0m \u001b[0;34m\"Similarity Score\"\u001b[0m\u001b[0;34m]\u001b[0m\u001b[0;34m,\u001b[0m \u001b[0mheader\u001b[0m\u001b[0;34m=\u001b[0m\u001b[0;36m0\u001b[0m\u001b[0;34m)\u001b[0m\u001b[0;34m\u001b[0m\u001b[0;34m\u001b[0m\u001b[0m\n\u001b[0m\u001b[1;32m      2\u001b[0m \u001b[0mprint\u001b[0m\u001b[0;34m(\u001b[0m\u001b[0mdf\u001b[0m\u001b[0;34m.\u001b[0m\u001b[0mhead\u001b[0m\u001b[0;34m(\u001b[0m\u001b[0;34m)\u001b[0m\u001b[0;34m.\u001b[0m\u001b[0mto_markdown\u001b[0m\u001b[0;34m(\u001b[0m\u001b[0mindex\u001b[0m\u001b[0;34m=\u001b[0m\u001b[0;32mFalse\u001b[0m\u001b[0;34m,\u001b[0m \u001b[0mnumalign\u001b[0m\u001b[0;34m=\u001b[0m\u001b[0;34m\"left\"\u001b[0m\u001b[0;34m,\u001b[0m \u001b[0mstralign\u001b[0m\u001b[0;34m=\u001b[0m\u001b[0;34m\"left\"\u001b[0m\u001b[0;34m)\u001b[0m\u001b[0;34m)\u001b[0m\u001b[0;34m\u001b[0m\u001b[0;34m\u001b[0m\u001b[0m\n",
            "\u001b[0;32m/usr/local/lib/python3.10/dist-packages/pandas/io/parsers/readers.py\u001b[0m in \u001b[0;36mread_csv\u001b[0;34m(filepath_or_buffer, sep, delimiter, header, names, index_col, usecols, dtype, engine, converters, true_values, false_values, skipinitialspace, skiprows, skipfooter, nrows, na_values, keep_default_na, na_filter, verbose, skip_blank_lines, parse_dates, infer_datetime_format, keep_date_col, date_parser, date_format, dayfirst, cache_dates, iterator, chunksize, compression, thousands, decimal, lineterminator, quotechar, quoting, doublequote, escapechar, comment, encoding, encoding_errors, dialect, on_bad_lines, delim_whitespace, low_memory, memory_map, float_precision, storage_options, dtype_backend)\u001b[0m\n\u001b[1;32m   1024\u001b[0m     \u001b[0mkwds\u001b[0m\u001b[0;34m.\u001b[0m\u001b[0mupdate\u001b[0m\u001b[0;34m(\u001b[0m\u001b[0mkwds_defaults\u001b[0m\u001b[0;34m)\u001b[0m\u001b[0;34m\u001b[0m\u001b[0;34m\u001b[0m\u001b[0m\n\u001b[1;32m   1025\u001b[0m \u001b[0;34m\u001b[0m\u001b[0m\n\u001b[0;32m-> 1026\u001b[0;31m     \u001b[0;32mreturn\u001b[0m \u001b[0m_read\u001b[0m\u001b[0;34m(\u001b[0m\u001b[0mfilepath_or_buffer\u001b[0m\u001b[0;34m,\u001b[0m \u001b[0mkwds\u001b[0m\u001b[0;34m)\u001b[0m\u001b[0;34m\u001b[0m\u001b[0;34m\u001b[0m\u001b[0m\n\u001b[0m\u001b[1;32m   1027\u001b[0m \u001b[0;34m\u001b[0m\u001b[0m\n\u001b[1;32m   1028\u001b[0m \u001b[0;34m\u001b[0m\u001b[0m\n",
            "\u001b[0;32m/usr/local/lib/python3.10/dist-packages/pandas/io/parsers/readers.py\u001b[0m in \u001b[0;36m_read\u001b[0;34m(filepath_or_buffer, kwds)\u001b[0m\n\u001b[1;32m    618\u001b[0m \u001b[0;34m\u001b[0m\u001b[0m\n\u001b[1;32m    619\u001b[0m     \u001b[0;31m# Create the parser.\u001b[0m\u001b[0;34m\u001b[0m\u001b[0;34m\u001b[0m\u001b[0m\n\u001b[0;32m--> 620\u001b[0;31m     \u001b[0mparser\u001b[0m \u001b[0;34m=\u001b[0m \u001b[0mTextFileReader\u001b[0m\u001b[0;34m(\u001b[0m\u001b[0mfilepath_or_buffer\u001b[0m\u001b[0;34m,\u001b[0m \u001b[0;34m**\u001b[0m\u001b[0mkwds\u001b[0m\u001b[0;34m)\u001b[0m\u001b[0;34m\u001b[0m\u001b[0;34m\u001b[0m\u001b[0m\n\u001b[0m\u001b[1;32m    621\u001b[0m \u001b[0;34m\u001b[0m\u001b[0m\n\u001b[1;32m    622\u001b[0m     \u001b[0;32mif\u001b[0m \u001b[0mchunksize\u001b[0m \u001b[0;32mor\u001b[0m \u001b[0miterator\u001b[0m\u001b[0;34m:\u001b[0m\u001b[0;34m\u001b[0m\u001b[0;34m\u001b[0m\u001b[0m\n",
            "\u001b[0;32m/usr/local/lib/python3.10/dist-packages/pandas/io/parsers/readers.py\u001b[0m in \u001b[0;36m__init__\u001b[0;34m(self, f, engine, **kwds)\u001b[0m\n\u001b[1;32m   1618\u001b[0m \u001b[0;34m\u001b[0m\u001b[0m\n\u001b[1;32m   1619\u001b[0m         \u001b[0mself\u001b[0m\u001b[0;34m.\u001b[0m\u001b[0mhandles\u001b[0m\u001b[0;34m:\u001b[0m \u001b[0mIOHandles\u001b[0m \u001b[0;34m|\u001b[0m \u001b[0;32mNone\u001b[0m \u001b[0;34m=\u001b[0m \u001b[0;32mNone\u001b[0m\u001b[0;34m\u001b[0m\u001b[0;34m\u001b[0m\u001b[0m\n\u001b[0;32m-> 1620\u001b[0;31m         \u001b[0mself\u001b[0m\u001b[0;34m.\u001b[0m\u001b[0m_engine\u001b[0m \u001b[0;34m=\u001b[0m \u001b[0mself\u001b[0m\u001b[0;34m.\u001b[0m\u001b[0m_make_engine\u001b[0m\u001b[0;34m(\u001b[0m\u001b[0mf\u001b[0m\u001b[0;34m,\u001b[0m \u001b[0mself\u001b[0m\u001b[0;34m.\u001b[0m\u001b[0mengine\u001b[0m\u001b[0;34m)\u001b[0m\u001b[0;34m\u001b[0m\u001b[0;34m\u001b[0m\u001b[0m\n\u001b[0m\u001b[1;32m   1621\u001b[0m \u001b[0;34m\u001b[0m\u001b[0m\n\u001b[1;32m   1622\u001b[0m     \u001b[0;32mdef\u001b[0m \u001b[0mclose\u001b[0m\u001b[0;34m(\u001b[0m\u001b[0mself\u001b[0m\u001b[0;34m)\u001b[0m \u001b[0;34m->\u001b[0m \u001b[0;32mNone\u001b[0m\u001b[0;34m:\u001b[0m\u001b[0;34m\u001b[0m\u001b[0;34m\u001b[0m\u001b[0m\n",
            "\u001b[0;32m/usr/local/lib/python3.10/dist-packages/pandas/io/parsers/readers.py\u001b[0m in \u001b[0;36m_make_engine\u001b[0;34m(self, f, engine)\u001b[0m\n\u001b[1;32m   1878\u001b[0m                 \u001b[0;32mif\u001b[0m \u001b[0;34m\"b\"\u001b[0m \u001b[0;32mnot\u001b[0m \u001b[0;32min\u001b[0m \u001b[0mmode\u001b[0m\u001b[0;34m:\u001b[0m\u001b[0;34m\u001b[0m\u001b[0;34m\u001b[0m\u001b[0m\n\u001b[1;32m   1879\u001b[0m                     \u001b[0mmode\u001b[0m \u001b[0;34m+=\u001b[0m \u001b[0;34m\"b\"\u001b[0m\u001b[0;34m\u001b[0m\u001b[0;34m\u001b[0m\u001b[0m\n\u001b[0;32m-> 1880\u001b[0;31m             self.handles = get_handle(\n\u001b[0m\u001b[1;32m   1881\u001b[0m                 \u001b[0mf\u001b[0m\u001b[0;34m,\u001b[0m\u001b[0;34m\u001b[0m\u001b[0;34m\u001b[0m\u001b[0m\n\u001b[1;32m   1882\u001b[0m                 \u001b[0mmode\u001b[0m\u001b[0;34m,\u001b[0m\u001b[0;34m\u001b[0m\u001b[0;34m\u001b[0m\u001b[0m\n",
            "\u001b[0;32m/usr/local/lib/python3.10/dist-packages/pandas/io/common.py\u001b[0m in \u001b[0;36mget_handle\u001b[0;34m(path_or_buf, mode, encoding, compression, memory_map, is_text, errors, storage_options)\u001b[0m\n\u001b[1;32m    871\u001b[0m         \u001b[0;32mif\u001b[0m \u001b[0mioargs\u001b[0m\u001b[0;34m.\u001b[0m\u001b[0mencoding\u001b[0m \u001b[0;32mand\u001b[0m \u001b[0;34m\"b\"\u001b[0m \u001b[0;32mnot\u001b[0m \u001b[0;32min\u001b[0m \u001b[0mioargs\u001b[0m\u001b[0;34m.\u001b[0m\u001b[0mmode\u001b[0m\u001b[0;34m:\u001b[0m\u001b[0;34m\u001b[0m\u001b[0;34m\u001b[0m\u001b[0m\n\u001b[1;32m    872\u001b[0m             \u001b[0;31m# Encoding\u001b[0m\u001b[0;34m\u001b[0m\u001b[0;34m\u001b[0m\u001b[0m\n\u001b[0;32m--> 873\u001b[0;31m             handle = open(\n\u001b[0m\u001b[1;32m    874\u001b[0m                 \u001b[0mhandle\u001b[0m\u001b[0;34m,\u001b[0m\u001b[0;34m\u001b[0m\u001b[0;34m\u001b[0m\u001b[0m\n\u001b[1;32m    875\u001b[0m                 \u001b[0mioargs\u001b[0m\u001b[0;34m.\u001b[0m\u001b[0mmode\u001b[0m\u001b[0;34m,\u001b[0m\u001b[0;34m\u001b[0m\u001b[0;34m\u001b[0m\u001b[0m\n",
            "\u001b[0;31mFileNotFoundError\u001b[0m: [Errno 2] No such file or directory: 'expanded_bangla_similarity_dataset_fixed.csv'"
          ]
        }
      ]
    },
    {
      "cell_type": "code",
      "source": [
        "print(f'\\nShape of the dataframe: {df.shape}')"
      ],
      "metadata": {
        "colab": {
          "base_uri": "https://localhost:8080/"
        },
        "id": "YaRD_EXdgXxE",
        "outputId": "c34a1efb-3d4f-47d2-8183-cd7efbcda913"
      },
      "execution_count": null,
      "outputs": [
        {
          "output_type": "stream",
          "name": "stdout",
          "text": [
            "\n",
            "Shape of the dataframe: (135, 3)\n"
          ]
        }
      ]
    },
    {
      "cell_type": "code",
      "source": [
        "print(\"\\nText 1 column:\")\n",
        "print(df['Text 1'].tolist())"
      ],
      "metadata": {
        "colab": {
          "base_uri": "https://localhost:8080/"
        },
        "id": "WpVznqwlhBLz",
        "outputId": "c3536215-0c69-4b47-e118-bd2e8febe273"
      },
      "execution_count": null,
      "outputs": [
        {
          "output_type": "stream",
          "name": "stdout",
          "text": [
            "\n",
            "Text 1 column:\n",
            "['Text 1', 'বাংলাদেশের অর্থনীতি ক্রমশ শক্তিশালী হচ্ছে। গার্মেন্টস শিল্প বৈদেশিক মুদ্রা অর্জনের একটি প্রধান উৎস। কৃষি এবং শিল্প বাংলাদেশের অর্থনীতির ভিত্তি।', 'স্বাস্থ্য সুরক্ষার জন্য নিয়মিত ব্যায়াম করা প্রয়োজন। সুস্থ থাকার জন্য সুষম খাবার খাওয়া গুরুত্বপূর্ণ। পর্যাপ্ত ঘুম এবং বিশ্রাম স্বাস্থ্য বজায় রাখার জন্য আবশ্যক।', 'প্রযুক্তির উন্নতির ফলে মানুষের জীবন অনেক সহজ হয়েছে। আধুনিক প্রযুক্তি দ্রুত যোগাযোগের সুযোগ দিয়েছে। প্রযুক্তি শিক্ষা এবং গবেষণার ক্ষেত্রেও অনেক পরিবর্তন এনেছে।', 'বাংলাদেশের প্রধান খাদ্যশস্য হলো ধান। দেশের বেশিরভাগ মানুষ কৃষিকাজের সাথে জড়িত। ধান চাষ বাংলাদেশের অর্থনীতিতে গুরুত্বপূর্ণ ভূমিকা পালন করে।', 'বাংলাদেশের জাতীয় খেলা হলো কাবাডি। ক্রিকেট বাংলাদেশের মানুষের কাছে অত্যন্ত জনপ্রিয়। খেলাধুলা মানসিক এবং শারীরিক বিকাশে সাহায্য করে।', 'বাংলাদেশ একটি নদীমাতৃক দেশ। এখানে অসংখ্য নদী প্রবাহিত হয়,যা দেশের অর্থনীতি এবং সংস্কৃতিতে গুরুত্বপূর্ণ ভূমিকা পালন করে। নদীগুলো কৃষি,মৎস্য চাষ,যোগাযোগ এবং পরিবহনের জন্য অত্যাবশ্যক।', 'আধুনিক প্রযুক্তির উন্নয়ন আমাদের জীবনযাত্রায় বিরাট পরিবর্তন এনেছে। ইন্টারনেট এবং মোবাইল ফোনের মাধ্যমে আমরা এখন সারা বিশ্বের সাথে যুক্ত। তথ্য প্রযুক্তির বিকাশ শিক্ষা,যোগাযোগ এবং ব্যবসা-বাণিজ্যে  নতুন  সম্ভাবনার  দ্বার  উন্মোচন  করেছে।', 'শিক্ষা  জাতির  মেরুদণ্ড।  শিক্ষা  মানুষকে  সুন্দর  ভাবে  বেঁচে  থাকতে  শেখায়।  শিক্ষিত  মানুষ  সমাজের  উন্নয়নে  অবদান  রাখে।  শিক্ষা  মানুষকে  সচেতন  করে  তোলে।  শিক্ষার  মাধ্যমে  মানুষ  আত্মনির্ভরশীল  হতে  পারে।', 'কোভিড-১৯  একটি  বিশ্বব্যাপী  মহামারী।  এই  ভাইরাসটি  চীনের  উহান  থেকে  বিশ্বের  বিভিন্ন  দেশে  ছড়িয়ে  পড়েছে।  এই  ভাইরাস  জন্য  অনেক  মানুষ  মারা  গেছে।  বিশ্ব  অর্থনীতি ক্ষতিগ্রস্ত  হয়েছে।  এই  ভাইরাস  থেকে  বাঁচার  জন্য  সবাইকে  স্বাস্থ্যবিধি  মেনে  চলতে  হবে।', 'বাংলাদেশ  একটি  উন্নয়নশীল  দেশ।  এ  দেশের  অর্থনীতি  দ্রুত  গতিতে  উন্নতি  করছে।  এ  দেশের  মানুষ  কঠোর  পরিশ্রমী।  তারা  দেশের  উন্নয়নে  অবদান  রাখছে।  বাংলাদেশ  একটি  গণতান্ত্রিক  দেশ।  এ  দেশের  মানুষ  নিজেদের  নেতা  নির্বাচন  করে।', 'ইন্টারনেট  আমাদের  জীবনকে  অনেক  সহজ  করে  দিয়েছে।  আমরা  এখন  ঘরে  বসে  ই  অনেক  কাজ  করতে  পারি।  আমরা  অনলাইনে  কেনাকাটা  করতে  পারি।  আমরা  অনলাইনে  শিক্ষা  গ্রহণ  করতে  পারি।  আমরা  অনলাইনে  বন্ধুদের  সাথে  যোগাযোগ  করতে  পারি।', 'বই পড়া  আমার  অনেক  প্রিয়  অভ্যাস।  ছোটবেলা  থেকেই  আমি  নিয়মিত  বই  পড়ি।  বই  পড়ার  মাধ্যমে  আমি  অনেক  কিছু  শিখতে  পেরেছি।  বই  আমাকে  নতুন  নতুন  জগতে  নিয়ে  যায়।  বই  আমার  মনকে  উন্মুক্ত  করে  দেয়।', 'বাংলাদেশ  একটি  কৃষিপ্রধান  দেশ।  এ  দেশের  অর্থনীতি  মূলত  কৃষির  উপর  নির্ভরশীল।  কৃষি  ক্ষেত্রে  উন্নয়ন  এ  দেশের  অর্থনৈতিক  উন্নয়নের  জন্য  অত্যন্ত  গুরুত্বপূর্ণ।  কৃষি  উৎপাদন  বৃদ্ধির  জন্য  সরকার  বিভিন্ন  পদক্ষেপ  গ্রহণ  করেছে।', 'শিক্ষা  মানুষের  মৌলিক  অধিকার।  শিক্ষা  মানুষকে  সচেতন  নাগরিক  হিসেবে  গড়ে  তোলে।  শিক্ষিত  মানুষ  সমাজের  উন্নয়নে  অবদান  রাখতে  পারে।  শিক্ষা  মানুষকে  আত্মনির্ভরশীল  হতে  সাহায্য  করে।', 'পরিবেশ  দূষণ  একটি  গুরুতর  সমস্যা।  পরিবেশ  দূষণের  ফলে  মানুষের  স্বাস্থ্যের  ক্ষতি  হয়।  পরিবেশ  দূষণ  রোধ  করার  জন্য  সবাইকে  সচেতন  হতে  হবে।  পরিবেশ  দূষণ  রোধ  করার  জন্য  বৃক্ষরোপণ  করা  উচিত।', 'বাংলাদেশ  একটি  উন্নয়নশীল  দেশ।  এ  দেশের  অর্থনীতি  দ্রুত  গতিতে  উন্নতি  করছে।  এ  দেশের  মানুষ  কঠোর  পরিশ্রমী।  তারা  দেশের  উন্নয়নে  অবদান  রাখছে।  বাংলাদেশ  একটি  গণতান্ত্রিক  দেশ।  এ  দেশের  মানুষ  নিজেদের  নেতা  নির্বাচন  করে।', 'বাংলা  সাহিত্য  অনেক  সমৃদ্ধ।  রবীন্দ্রনাথ  ঠাকুর,কাজী  নজরুল  ইসলাম,শরৎচন্দ্র  চট্টোপাধ্যায়  প্রমুখ  বিশিষ্ট  সাহিত্যিকদের  লেখা  বাংলা  সাহিত্যকে  সমৃদ্ধ  করেছে।  বাংলা  সাহিত্য  আমাদের  ভাষা,সংস্কৃতি  এবং  ঐতিহ্যের  ধারক।', 'পরিবেশ  দূষণ  একটি  গুরুতর  সমস্যা।  বায়ু  দূষণ,জল  দূষণ  এবং  মাটি  দূষণ  মানুষের  স্বাস্থ্যের  জন্য  হুমকিস্বরূপ।  পরিবেশ  দূষণ  রোধে  আমাদের  সকলকে  সচেতন  হতে  হবে  এবং  পরিবেশ  বান্ধব  জীবনযাত্রা  অনুসরণ  করতে  হবে।', 'শিক্ষা  জাতির  মেরুদণ্ড।  শিক্ষা  মানুষকে  জ্ঞান,বুদ্ধি  এবং  নৈতিকতা  শিক্ষা  দেয়।  শিক্ষিত  জাতি  দেশের  উন্নয়নে  গুরুত্বপূর্ণ  ভূমিকা  পালন  করে।  সকলের  জন্য  শিক্ষা  সুনিশ্চিত  করা  একটি  গুরুত্বপূর্ণ  লক্ষ্য  হওয়া  উচিত।', 'স্বাস্থ্য  সম্পদ।  সুস্থ  শরীর  এবং  মন  সুখী  জীবনের  জন্য  অপরিহার্য।  স্বাস্থ্যকর  খাবার,নিয়মিত  ব্যায়াম  এবং  পর্যাপ্ত  বিশ্রাম  সুস্বাস্থ্যের  জন্য  গুরুত্বপূর্ণ।  স্বাস্থ্য  সেবা  সকলের  জন্য  সহজলভ্য  হওয়া  উচিত।', 'কৃষি  বাংলাদেশের  অর্থনীতির  একটি  গুরুত্বপূর্ণ  খাত।  দেশের  মোট  জনসংখ্যার  একটি  বড়  অংশ  কৃষি  কাজের  উপর  নির্ভরশীল।  কৃষি  উৎপাদন  বৃদ্ধির  মাধ্যমে  দেশের  খাদ্য  নিরাপত্তা  সুনিশ্চিত  করা  এবং  দারিদ্র্য  বিমোচন  সম্ভব।', 'বাংলাদেশ  একটি  প্রাকৃতিক  সৌন্দর্যে  ভরা  দেশ।  এখানে  সুন্দরবন,কক্সবাজার  সমুদ্র  সৈকত,চা বাগান,পাহাড়  প্রভৃতি  অনেক  আকর্ষণীয়  স্থান  আছে।  বাংলাদেশের  পর্যটন  শিল্পের  উন্নয়ন  দেশের  অর্থনীতিতে  গুরুত্বপূর্ণ  ভূমিকা  পালন  করতে  পারে।', 'নারীর  কর্মসংস্থান  দেশের  অর্থনৈতিক  উন্নয়নের  জন্য  গুরুত্বপূর্ণ।  নারীদের  শিক্ষা  এবং  কর্মসংস্থানের  মাধ্যমে  তাদের  স্বাবলম্বী  করা  সম্ভব।  নারী  সশক্তিকরণ  দেশের  সামগ্রিক  উন্নয়নে  অবদান  রাখে।', 'শিশু  হল  ভবিষ্যতের  কান্ডারি।  শিশুদের  সুষ্ঠু  বিকাশের  জন্য  পুষ্টিকর  খাবার,শিক্ষা  এবং  ভালোবাসা  অপরিহার্য।  শিশু  শ্রম  এবং  নির্যাতনের  বিরুদ্ধে  আমাদের  সকলকে  সোচ্চার  হতে  হবে।', 'জলবায়ু  পরিবর্তন  একটি  বৈশ্বিক  সমস্যা।  জলবায়ু  পরিবর্তনের  ফলে  প্রাকৃতিক  দুর্যোগ,খরা,বন্যা  প্রভৃতি  ঘটছে।  জলবায়ু  পরিবর্তন  রোধে  আমাদের  সকলকে  একযোগে  কাজ  করতে  হবে।', 'খাদ্য  নিরাপত্তা  সুনিশ্চিত  করা  একটি  গুরুত্বপূর্ণ  বিষয়।  সকল  মানুষের  জন্য  পুষ্টিকর  খাবার  সহজলভ্য  হওয়া  উচিত।  খাদ্য  উৎপাদন  বৃদ্ধি  এবং  খাদ্য  অপচয়  রোধ  খাদ্য  নিরাপত্তা  সুনিশ্চিত  করতে  সাহায্য  করবে।', 'দারিদ্র্য  বিমোচন  একটি  বড়  চ্যালেঞ্জ।  দারিদ্র্যের  কারণে  অনেক  মানুষ  মৌলিক  চাহিদা  থেকে  বঞ্চিত  হয়।  শিক্ষা,কর্মসংস্থান  এবং  সামাজিক  নিরাপত্তা  ব্যবস্থার  মাধ্যমে  দারিদ্র্য  বিমোচন  সম্ভব।', 'বাংলাদেশের  অর্থনীতি  দ্রুত  গতিতে  উন্নতি  করছে।  গার্মেন্টস  শিল্প,প্রবাসী  আয়  এবং  কৃষি  ক্ষেত্র  বাংলাদেশের  অর্থনীতির  প্রধান  চালিকাশক্তি।  অবকাঠামো  উন্নয়ন  এবং  বিনিয়োগ  বৃদ্ধি  বাংলাদেশের অর্থনৈতিক  উন্নয়নকে  আরও  ত্বরান্বিত  করবে।', 'শিল্প  বিপ্লবের  ফলে  মানুষের  জীবনযাত্রায়  বিরাট  পরিবর্তন  এসেছে।  যন্ত্রপাতির  ব্যবহার  উৎপাদন  বৃদ্ধি  এবং  কর্মসংস্থানের  সুযোগ  সৃষ্টি  করেছে।  তবে  শিল্প  বিপ্লবের  ফলে  পরিবেশ  দূষণ  এবং  সামাজিক  অসাম্য  বৃদ্ধি  পেয়েছে।', 'শহরায়ন  একটি  অবশ্যম্ভাবী  প্রক্রিয়া।  গ্রাম  থেকে  মানুষ  কাজের  সন্ধানে  শহরে  আসছে।  শহরগুলোতে  জনসংখ্যা  বৃদ্ধি  পাচ্ছে  এবং  অবকাঠামোর  উপর  চাপ  বাড়ছে।  পরিকল্পিত  শহরায়ন  এই  সমস্যার  সমাধান  করতে  সাহায্য  করবে।', 'গণতন্ত্র  একটি  শাসন  ব্যবস্থা  যেখানে  জনগণ  তাদের  প্রতিনিধি  নির্বাচন  করে।  গণতন্ত্রে  জনগণের  মতামত  গুরুত্বপূর্ণ  এবং  সকলের  অধিকার  সুরক্ষিত।  গণতান্ত্রিক  ব্যবস্থায়  স্বচ্ছতা  এবং  জবাবদিহিতা  গুরুত্বপূর্ণ  ভূমিকা  পালন  করে।', 'মানবাধিকার  সকল  মানুষের  জন্য  গুরুত্বপূর্ণ।  জাতি,ধর্ম,বর্ণ  নির্বিশেষে  সকল  মানুষের  মৌলিক  অধিকার  সুরক্ষিত  হওয়া  উচিত।  মানবাধিকার  লঙ্ঘনের  বিরুদ্ধে  আমাদের  সকলকে  প্রতিবাদ  করতে  হবে।', 'বিশ্বায়ন  একটি  প্রক্রিয়া  যার  মাধ্যমে  বিশ্বের  বিভিন্ন  দেশ  একে  অপরের  সাথে  অর্থনৈতিক,সামাজিক  এবং  সাংস্কৃতিক  ভাবে  যুক্ত  হচ্ছে।  বিশ্বায়নের  ফলে  বাণিজ্য,বিনিয়োগ  এবং  প্রযুক্তি  হস্তান্তর  বৃদ্ধি  পেয়েছে।', 'শান্তি  এবং  সহাবস্থান  বিশ্বের  জন্য  অপরিহার্য।  যুদ্ধ  এবং  সহিংসতা  মানুষের  জীবন  এবং  সম্পত্তির  ক্ষতি  সাধন  করে।  আমাদের  সকলকে  শান্তি  প্রতিষ্ঠা  এবং  সহাবস্থানের  সংস্কৃতি  গড়ে  তোলার  জন্য  কাজ  করতে  হবে।', 'করোনা  ভাইরাস  মহামারী  সারা  বিশ্বে  মানুষের  জীবন  এবং  অর্থনীতিতে  বিরাট  প্রভাব  ফেলেছে।  এই  মহামারী  থেকে  শিক্ষা  নিয়ে  আমাদের  ভবিষ্যতের  জন্য  প্রস্তুতি  নিতে  হবে।  স্বাস্থ্য  ব্যবস্থার  উন্নয়ন  এবং  সামাজিক  সচেতনতা  বৃদ্ধি  এই  ধরনের  মহামারী  প্রতিরোধে  সাহায্য  করবে।', 'তথ্য  প্রযুক্তির  উন্নয়ন  আমাদের  জীবনযাত্রায় পরিবর্তন  এনেছে।  ইন্টারনেট  এবং  মোবাইল  ফোনের  মাধ্যমে  আমরা  এখন  বিশ্বের  যেকোনো  প্রান্তের  সাথে  যুক্ত  থাকতে  পারি।  অনলাইন  যোগাযোগ,ব্যবসা-বাণিজ্য  এবং  শিক্ষা  ব্যবস্থা  এখন  অনেক  সহজ  হয়ে  গেছে।', 'শিল্প  বিপ্লব  ৪.০  একটি  নতুন  যুগের  সূচনা  করেছে।  কৃত্রিম  বুদ্ধিমত্তা,ইন্টারনেট  অফ  থিংস  এবং  বড়  তথ্য  বিশ্লেষণ  এই  যুগের  প্রধান  প্রযুক্তি।  এই  প্রযুক্তিগুলো  উৎপাদন  ব্যবস্থা,কর্মসংস্থান  এবং  জীবনযাত্রায়  বিরাট  পরিবর্তন  আনবে।', 'নবায়নযোগ্য  শক্তি  ব্যবহার  পরিবেশ  সংরক্ষণের  জন্য  গুরুত্বপূর্ণ।  সূর্য  এবং  বায়ু  থেকে  বিদ্যুৎ  উৎপাদন  পরিবেশ  দূষণ  কমাতে  সাহায্য  করে।  নবায়নযোগ্য  শক্তির  ব্যবহার  জীবাশ্ম  জ্বালানির  উপর  নির্ভরতা  কমাতে  সাহায্য  করবে।', 'মহাকাশ  অনুসন্ধান  মানুষের  জ্ঞান  এবং  বুদ্ধির  সীমানা  বিস্তৃত  করেছে।  মহাকাশ  যান  এবং  উপগ্রহ  আমাদের  পৃথিবী  এবং  মহাবিশ্ব  সম্পর্কে  নতুন  নতুন  তথ্য  দিচ্ছে।  মহাকাশ  অনুসন্ধান  প্রযুক্তির  উন্নয়নে  অবদান  রাখছে।', 'কৃত্রিম  বুদ্ধিমত্তা  একটি  ক্ষেত্র  যেখানে  কম্পিউটার  মানুষের  মতো  চিন্তা  এবং  কাজ  করতে  পারে।  কৃত্রিম  বুদ্ধিমত্তা  এখন  বিভিন্ন  ক্ষেত্রে  ব্যবহৃত  হচ্ছে,যেমন  চিকিৎসা,শিক্ষা,ব্যবসা-বাণিজ্য  এবং  পরিবহন।', 'জৈব  প্রযুক্তির  উন্নয়ন  চিকিৎসা  বিজ্ঞানে  বিরাট  পরিবর্তন  এনেছে।  জিন  প্রকৌশল  এবং  জৈব  প্রযুক্তির  মাধ্যমে  নতুন  নতুন  ওষুধ  এবং  চিকিৎসা  পদ্ধতি  আবিষ্কার  হচ্ছে।  জৈব  প্রযুক্তি  কৃষি  এবং  পরিবেশ  ক্ষেত্রেও  গুরুত্বপূর্ণ  ভূমিকা  পালন  করছে।', 'সামাজিক  মাধ্যম  আমাদের  জীবনের  একটি  অবিচ্ছেদ্য  অংশ  হয়ে  গেছে।  ফেসবুক,টুইটার,ইনস্টাগ্রাম  প্রভৃতি  সামাজিক  মাধ্যম  প্ল্যাটফর্ম  আমাদের  যোগাযোগ,বিনোদন  এবং  তথ্য  গ্রহণের  মাধ্যম  হিসেবে  কাজ  করছে।', 'অনলাইন  শিক্ষা  ব্যবস্থা  এখন  অনেক  জনপ্রিয়।  করোনা  মহামারীর  সময়  অনলাইন  শিক্ষা  ব্যবস্থা  শিক্ষা  কার্যক্রম  চালিয়ে  যেতে  গুরুত্বপূর্ণ  ভূমিকা  পালন  করেছে।  অনলাইন  শিক্ষা  ব্যবস্থা  শিক্ষার্থীদের  জন্য  নমনীয়  এবং  সহজলভ্য।', 'বৈশ্বিক  উষ্ণায়ন  একটি  গুরুতর  সমস্যা।  বৈশ্বিক  উষ্ণায়নের  ফলে  সমুদ্রের  পানির  উচ্চতা  বৃদ্ধি  পাচ্ছে  এবং  প্রাকৃতিক  দুর্যোগ  বৃদ্ধি  পাচ্ছে।  বৈশ্বিক  উষ্ণায়ন  রোধে  আমাদের  সকলকে  একযোগে  কাজ  করতে  হবে।', 'জীববৈচিত্র্য  পৃথিবীর  জন্য  অনেক  গুরুত্বপূর্ণ।  জীববৈচিত্র্য  পরিবেশের  ভারসাম্য  রক্ষা  করে  এবং  মানুষের  জীবনযাত্রার  জন্য  প্রয়োজনীয়  সম্পদ  সরবরাহ  করে।  জীববৈচিত্র্য  সংরক্ষণ  আমাদের  সকলের  দায়িত্ব।', 'মুক্তিযুদ্ধ  বাংলাদেশের  ইতিহাসের  একটি  গুরুত্বপূর্ণ  অধ্যায়।  ১৯৭১  সালে  বাংলাদেশ  পাকিস্তানের  শাসন  থেকে  মুক্তি  লাভ  করে।  মুক্তিযুদ্ধে  অসংখ্য  মানুষ  জীবন  দিয়েছেন  এবং  নারীরা  অনেক  ভাবে  নির্যাতিত  হয়েছেন।', 'ভাষা  আন্দোলন  বাংলাদেশের  ইতিহাসের  একটি  গুরুত্বপূর্ণ  ঘটনা।  ১৯৫২  সালে  বাংলা  ভাষাকে  রাষ্ট্রভাষা  করার  দাবিতে  ছাত্র  এবং  জনগণ  আন্দোলন  করেছিল।  ভাষা  আন্দোলন  বাংলা  ভাষা  এবং  সংস্কৃতি  রক্ষা  করেছে।', 'বাংলাদেশ  একটি  কৃষিপ্রধান  দেশ।  কৃষি  এখানকার  অর্থনীতির  একটি  গুরুত্বপূর্ণ  অংশ।  দেশের  অধিকাংশ  মানুষ  কৃষির  উপর  নির্ভরশীল।  কৃষি  উৎপাদন  বৃদ্ধি  খাদ্য  নিরাপত্তা  এবং  অর্থনৈতিক  উন্নয়নের  জন্য  গুরুত্বপূর্ণ।', 'বাংলাদেশের  শিক্ষা  ব্যবস্থায়  অনেক  উন্নতি  হয়েছে।  প্রাথমিক  শিক্ষা  থেকে  উচ্চ  শিক্ষা  পর্যন্ত  সকল  স্তরে  শিক্ষার  সুযোগ  বৃদ্ধি  পেয়েছে।  শিক্ষার  মান  উন্নয়ন  এবং  সকলের  জন্য  শিক্ষা  সুনিশ্চিত  করা  গুরুত্বপূর্ণ।', 'বাংলাদেশের  স্বাস্থ্য  ব্যবস্থায়  উন্নতি  হচ্ছে।  সরকারি  এবং  বেসরকারি  ভাবে  স্বাস্থ্য  সেবা  প্রদান  বৃদ্ধি  পেয়েছে।  তবে  গ্রামীণ  এলাকায়  স্বাস্থ্য  সেবার  মান  এখনও  অনেক  ক্ষেত্রে  অপ্রতুল।  স্বাস্থ্য  সেবা  সকলের  জন্য  সহজলভ্য  করা  এবং  মান  উন্নত  করা  প্রয়োজন।', 'বাংলাদেশ  একটি  গণতান্ত্রিক  দেশ।  এখানে  নিয়মিত  ভাবে  নির্বাচন  অনুষ্ঠিত  হয়  এবং  জনগণ  তাদের  প্রতিনিধি  নির্বাচন  করে।  গণতন্ত্র  টিকিয়ে  রাখা  এবং  শক্তিশালী  করা  সকলের  দায়িত্ব।', 'বাংলাদেশ  একটি  ধর্মনিরপেক্ষ  দেশ।  এখানে  বিভিন্ন  ধর্মের  মানুষ  একসাথে  শান্তিতে  বসবাস  করে।  ধর্মীয়  সম্প্রীতি  এবং  সহিষ্ণুতা  বাংলাদেশের  সংস্কৃতির  একটি  গুরুত্বপূর্ণ  অংশ।', 'বাংলাদেশ  একটি  উন্নয়নশীল  দেশ।  দেশের  অর্থনীতি  গত  কয়েক  দশকে  উল্লেখযোগ্য  উন্নতি  সাধন  করেছে।  তবে  দারিদ্র্য,বেকারত্ব  এবং  অন্যান্য  সামাজিক  সমস্যা  এখনও  বিদ্যমান।  এই  সমস্যাগুলো  সমাধান  করে  টেকসই  উন্নয়ন  সাধন  করা  প্রয়োজন।', 'বাংলাদেশের  সংস্কৃতি  অনেক  সমৃদ্ধ  এবং  বৈচিত্র্যময়।  এখানে  বিভিন্ন  ধর্ম,বর্ণ  এবং  গোষ্ঠীর  মানুষ  একসাথে  বসবাস  করে।  বাংলাদেশের  সংস্কৃতিতে  বিভিন্ন  উৎসব,পার্বণ  এবং  রীতিনীতি  গুরুত্বপূর্ণ  ভূমিকা  পালন  করে।', 'বাংলা  ভাষা  আমাদের  মাতৃভাষা।  এটি  আমাদের  গর্ব  এবং  পরিচয়।  বাংলা  ভাষা  এবং  সাহিত্য  চর্চা  আমাদের  সংস্কৃতি  এবং  ঐতিহ্য  ধরে  রাখতে  সাহায্য  করে।', 'বাংলাদেশ  একটি  প্রাকৃতিক  সৌন্দর্যে  ভরা  দেশ।  এখানে  সুন্দরবন,কক্সবাজার  সমুদ্র  সৈকত,চা  বাগান,পাহাড়  প্রভৃতি  অনেক  আকর্ষণীয়  স্থান  আছে।  এই  সৌন্দর্য  পরিবেশের  ভারসাম্য  রক্ষা  করে  এবং  মানুষের  মন  প্রাণ  আনন্দিত  করে।', 'বাংলাদেশের  মানুষ  অনেক  কষ্টসহিষ্ণু  এবং  পরিশ্রমী।  তারা  বিভিন্ন  প্রতিকূলতার  মধ্যে  থেকেও  জীবন  যুদ্ধ  চালিয়ে  যাচ্ছে।  বাংলাদেশের  মানুষের  মধ্যে  একটি  অন্যরকম  স্থিতিস্থাপকতা  আছে  যা  তাদের  সকল  প্রতিকূলতার  সাথে  লড়াই  করতে  সাহায্য  করে।', 'বাংলাদেশ  একটি  উন্নয়নশীল  দেশ  হলেও  এখানে  অনেক  সম্ভাবনা  আছে।  শিক্ষা,প্রযুক্তি  এবং  কর্মসংস্থানের  মাধ্যমে  বাংলাদেশ  আরও  উন্নতি  করতে  পারে।  সরকার  এবং  জনগণের  সম্মিলিত  প্রচেষ্টায়  বাংলাদেশ  একটি  সমৃদ্ধ  দেশে  পরিণত  হবে।', 'আমাদের  সকলের  উচিত  দেশের  প্রতি  কর্তব্য  পালন  করা।  আইন  মেনে  চলা,কর  প্রদান  করা  এবং  দেশের  উন্নয়নে  অবদান  রাখা  আমাদের  সকলের  দায়িত্ব।  একটি  শক্তিশালী  এবং  সমৃদ্ধ  বাংলাদেশ  গড়ে  তোলার  জন্য  আমাদের  সকলকে  একযোগে  কাজ  করতে  হবে।', 'সুন্দরবন  বিশ্বের  বৃহত্তম  ম্যানগ্রোভ  বন।  এটি  বাংলাদেশের  একটি  অনন্য  প্রাকৃতিক  সম্পদ।  সুন্দরবন  জীববৈচিত্র্যের  একটি  গুরুত্বপূর্ণ  আবাসস্থল।  এখানে  রয়েল  ব Bengal   টাইগার,চিত্রা  হরিণ,বানর  সহ  অনেক  প্রজাতির  প্রাণী  বসবাস  করে।', 'কক্সবাজার  সমুদ্র  সৈকত  বিশ্বের  দীর্ঘতম  অবিচ্ছিন্ন  সমুদ্র  সৈকত।  এটি  বাংলাদেশের  একটি  জনপ্রিয়  পর্যটন  কেন্দ্র।  কক্সবাজার  সমুদ্র  সৈকত  তার  প্রাকৃতিক  সৌন্দর্য  এবং  নীল  জলের  জন্য  বিখ্যাত।', 'বাংলাদেশের  চা  বাগানগুলো  তাদের  সবুজ  সৌন্দর্যের  জন্য  বিখ্যাত।  সিলেট  এবং  চট্টগ্রাম  অঞ্চলে  অবস্থিত  চা  বাগানগুলো  দেশের  অর্থনীতিতে  গুরুত্বপূর্ণ  ভূমিকা  পালন  করে।  চা  বাগানগুলো  পর্যটকদের  কাছেও  একটি  আকর্ষণীয়  স্থান।', 'বাংলাদেশের  পাহাড়গুলো  তাদের  প্রাকৃতিক  সৌন্দর্যের  জন্য  বিখ্যাত।  সিলেট,চট্টগ্রাম  এবং  বান্দরবান  অঞ্চলে  অবস্থিত  পাহাড়গুলো  পর্যটকদের  কাছে  একটি  আকর্ষণীয়  স্থান।  পাহাড়ে  ট্রেকিং,ক্যাম্পিং  এবং  প্রকৃতি  উপভোগ  করা  অনেক  জনপ্রিয়।', 'ঢাকা  বাংলাদেশের  রাজধানী  এবং  বৃহত্তম  শহর।  এটি  দেশের  রাজনৈতিক,অর্থনৈতিক  এবং  সাংস্কৃতিক  কেন্দ্র।  ঢাকা  একটি  historian   শহর  যার  অনেক  ঐতিহাসিক  স্থাপত্য  এবং  স্থান  আছে।', 'চট্টগ্রাম  বাংলাদেশের  প্রধান  বন্দর  শহর।  এটি  দেশের  দক্ষিণ-পূর্বাঞ্চলে  অবস্থিত।  চট্টগ্রাম  একটি  গুরুত্বপূর্ণ  বাণিজ্যিক  কেন্দ্র  এবং  এখানে  অনেক  শিল্প  কারখানা  আছে।', 'খুলনা  বাংলাদেশের  দক্ষিণ-পশ্চিমাঞ্চলে  অবস্থিত  একটি  গুরুত্বপূর্ণ  শহর।  এটি  সুন্দরবনের  নিকটে  অবস্থিত  এবং  এখানে  অনেক  নদী  আছে।  খুলনা  একটি  কৃষি  এবং  শিল্প  কেন্দ্র।', 'রাজশাহী  বাংলাদেশের  উত্তরাঞ্চলে  অবস্থিত  একটি  গুরুত্বপূর্ণ  শহর।  এটি  পদ্মা  নদীর  তীরে  অবস্থিত।  রাজশাহী  তার  রেশম  এবং  আমের জন্য  বিখ্যাত।', 'সিলেট  বাংলাদেশের  উত্তর-পূর্বাঞ্চলে  অবস্থিত  একটি  সুন্দর  শহর।  এটি  চা  বাগান  এবং  পাহাড়ের  জন্য  বিখ্যাত।  সিলেট  একটি  জনপ্রিয়  পর্যটন  কেন্দ্র।', 'শিক্ষা জাতির মেরুদণ্ড। সুশিক্ষা মানুষের মানসিকতা গড়ে তোলে। শিক্ষা একটি সমাজকে উন্নতির পথে নিয়ে যায়।', 'বাংলাদেশের পর্যটন শিল্প ক্রমশ উন্নতি লাভ করছে। কক্সবাজার এবং সুন্দরবন বিশ্বের কাছে অত্যন্ত জনপ্রিয়। পর্যটন শিল্প দেশের অর্থনীতিতে গুরুত্বপূর্ণ ভূমিকা পালন করে।', 'বাংলাদেশের সংস্কৃতি অনেক পুরনো এবং সমৃদ্ধ। এখানকার মানুষ উৎসবমুখর এবং ঐতিহ্যবাহী। বাংলার বাউল গান বিশ্বব্যাপী পরিচিত।', 'পরিবেশ রক্ষা করা আমাদের সকলের দায়িত্ব। গাছপালা রোপণ পরিবেশকে দূষণ থেকে রক্ষা করতে সাহায্য করে। পরিবেশ দূষণ রোধে আমাদের সচেতন হতে হবে।', 'মুক্তিযুদ্ধ আমাদের জাতীয় ইতিহাসের একটি গৌরবময় অধ্যায়। ১৯৭১ সালের মুক্তিযুদ্ধে লাখো মানুষ প্রাণ দিয়েছেন। এই যুদ্ধের ফলে আমরা স্বাধীনতা অর্জন করেছি।', 'বন সংরক্ষণ পরিবেশের ভারসাম্য রক্ষার জন্য অত্যন্ত গুরুত্বপূর্ণ।', 'বাংলাদেশের প্রাকৃতিক সৌন্দর্য অতুলনীয়। চিরসবুজ বন,নীল জলরাশি এবং পাহাড়ি এলাকাগুলো পর্যটকদের আকর্ষণের কেন্দ্রবিন্দু। সুন্দরবন,কক্সবাজার,এবং বান্দরবানের মতো জায়গাগুলো দেশীয় এবং বিদেশী পর্যটকদের কাছে অত্যন্ত জনপ্রিয়।', 'খেলাধুলা একটি জাতির মানসিক এবং শারীরিক বিকাশে গুরুত্বপূর্ণ ভূমিকা পালন করে। ক্রিকেট,ফুটবল,এবং হকি বাংলাদেশের জনপ্রিয় খেলাগুলোর মধ্যে অন্যতম। খেলাধুলার মাধ্যমে যুবসমাজে শৃঙ্খলা এবং দলগত কাজের গুরুত্ব বোঝানো যায়।', 'স্বাস্থ্য একটি অমূল্য সম্পদ। সুস্থ জীবনযাপন নিশ্চিত করতে নিয়মিত ব্যায়াম এবং পুষ্টিকর খাবারের প্রয়োজন। স্বাস্থ্য সচেতনতা বৃদ্ধির জন্য বিভিন্ন সামাজিক এবং সরকারি উদ্যোগ নেওয়া হয়েছে।', 'বাংলাদেশের গ্রামীণ অর্থনীতি প্রধানত কৃষি নির্ভর। এখানকার বেশিরভাগ মানুষ কৃষি কাজের সঙ্গে যুক্ত। ধান,পাট এবং চা প্রধান ফসল হিসেবে উল্লেখযোগ্য।', 'পরিবেশ রক্ষার জন্য পুনর্ব্যবহার একটি গুরুত্বপূর্ণ পদ্ধতি। প্লাস্টিক,কাগজ এবং কাচের পুনর্ব্যবহার আমাদের পরিবেশ দূষণ কমাতে সাহায্য করে। পরিবেশ বান্ধব পদ্ধতি গ্রহণ করে আমাদের ভবিষ্যৎ প্রজন্মের জন্য একটি পরিচ্ছন্ন পরিবেশ নিশ্চিত করা সম্ভব।', 'আধুনিক প্রযুক্তি আমাদের কাজকে সহজ এবং দ্রুততর করেছে।', 'শিক্ষা জাতির মেরুদণ্ড নিয়ে আলোচনা।', 'সাংস্কৃতিক বৈচিত্র্য নিয়ে আলোচনা।', 'পরিবেশ রক্ষা নিয়ে আলোচনা।', 'তথ্য প্রযুক্তির বিকাশ নিয়ে আলোচনা।', 'বাংলাদেশের স্বাধীনতা নিয়ে আলোচনা।', 'বাংলাদেশ একটি নদীমাতৃক দেশ। এখানে অসংখ্য নদী প্রবাহিত হয়।', 'ইন্টারনেট আমাদের জীবনে এক নতুন দিগন্ত উন্মোচন করেছে। এটি শিক্ষা এবং বিনোদনের প্রধান উৎস।', 'উন্নত স্বাস্থ্যসেবার জন্য ভালো হাসপাতাল এবং ডাক্তার প্রয়োজন।', 'কৃষি বাংলাদেশের অর্থনীতির প্রধান চালিকা শক্তি। দেশের বেশিরভাগ মানুষ কৃষিকাজের উপর নির্ভরশীল।', 'আধুনিক প্রযুক্তি আমাদের কাজকে সহজ এবং দ্রুততর করেছে।', 'ইন্টারনেট আমাদের জীবনে এক নতুন দিগন্ত উন্মোচন করেছে। এটি শিক্ষা এবং বিনোদনের প্রধান উৎস।', 'ইন্টারনেট আমাদের জীবনে এক নতুন দিগন্ত উন্মোচন করেছে। এটি শিক্ষা এবং বিনোদনের প্রধান উৎস।', 'শিক্ষা জাতির মেরুদণ্ড। বাংলাদেশে শিক্ষার হার দিন দিন বৃদ্ধি পাচ্ছে।', 'বাংলাদেশের প্রাকৃতিক সৌন্দর্য এক কথায় অনবদ্য। পাহাড়,নদী এবং সাগরের মেলবন্ধন এখানে পর্যটকদের মুগ্ধ করে।', 'ঢাকা শহরের যানজট একটি বড় সমস্যা। এটি মানুষকে মানসিক চাপ ও সময়ের অপচয় করে।', 'উন্নত স্বাস্থ্যসেবার জন্য ভালো হাসপাতাল এবং ডাক্তার প্রয়োজন।', 'ইন্টারনেট আমাদের জীবনে এক নতুন দিগন্ত উন্মোচন করেছে। এটি শিক্ষা এবং বিনোদনের প্রধান উৎস।', 'বাংলাদেশে অনেক ধরনের ঋতু রয়েছে। প্রতি ঋতু তার নিজস্ব বৈশিষ্ট্য নিয়ে আসে।', 'বাংলাদেশের প্রাকৃতিক সৌন্দর্য এক কথায় অনবদ্য। পাহাড়,নদী এবং সাগরের মেলবন্ধন এখানে পর্যটকদের মুগ্ধ করে।', 'বন সংরক্ষণ পরিবেশের ভারসাম্য রক্ষার জন্য অত্যন্ত গুরুত্বপূর্ণ।', 'বাংলাদেশে অনেক ধরনের ঋতু রয়েছে। প্রতি ঋতু তার নিজস্ব বৈশিষ্ট্য নিয়ে আসে।', 'বাংলাদেশে অনেক ধরনের ঋতু রয়েছে। প্রতি ঋতু তার নিজস্ব বৈশিষ্ট্য নিয়ে আসে।', 'আধুনিক প্রযুক্তি আমাদের কাজকে সহজ এবং দ্রুততর করেছে।', 'আধুনিক প্রযুক্তি আমাদের কাজকে সহজ এবং দ্রুততর করেছে।', 'উন্নত স্বাস্থ্যসেবার জন্য ভালো হাসপাতাল এবং ডাক্তার প্রয়োজন।', 'উন্নত স্বাস্থ্যসেবার জন্য ভালো হাসপাতাল এবং ডাক্তার প্রয়োজন।', 'বন সংরক্ষণ পরিবেশের ভারসাম্য রক্ষার জন্য অত্যন্ত গুরুত্বপূর্ণ।', 'বাঙালি সংস্কৃতি তার বৈচিত্র্যের জন্য প্রসিদ্ধ। এখানে বিভিন্ন ধর্ম,ভাষা ও ঐতিহ্য একসাথে মিশে আছে।', 'কৃষি বাংলাদেশের অর্থনীতির প্রধান চালিকা শক্তি। দেশের বেশিরভাগ মানুষ কৃষিকাজের উপর নির্ভরশীল।', 'কৃষি বাংলাদেশের অর্থনীতির প্রধান চালিকা শক্তি। দেশের বেশিরভাগ মানুষ কৃষিকাজের উপর নির্ভরশীল।', 'আধুনিক প্রযুক্তি আমাদের কাজকে সহজ এবং দ্রুততর করেছে।', 'বাংলাদেশের প্রাকৃতিক সৌন্দর্য এক কথায় অনবদ্য। পাহাড়,নদী এবং সাগরের মেলবন্ধন এখানে পর্যটকদের মুগ্ধ করে।', 'উন্নত স্বাস্থ্যসেবার জন্য ভালো হাসপাতাল এবং ডাক্তার প্রয়োজন।', 'আধুনিক প্রযুক্তি আমাদের কাজকে সহজ এবং দ্রুততর করেছে।', 'বন সংরক্ষণ পরিবেশের ভারসাম্য রক্ষার জন্য অত্যন্ত গুরুত্বপূর্ণ।', 'উন্নত স্বাস্থ্যসেবার জন্য ভালো হাসপাতাল এবং ডাক্তার প্রয়োজন।', 'বাংলাদেশের প্রাকৃতিক সৌন্দর্য এক কথায় অনবদ্য। পাহাড়,নদী এবং সাগরের মেলবন্ধন এখানে পর্যটকদের মুগ্ধ করে।', 'শিক্ষা জাতির মেরুদণ্ড। বাংলাদেশে শিক্ষার হার দিন দিন বৃদ্ধি পাচ্ছে।', 'বাংলাদেশের প্রাকৃতিক সৌন্দর্য এক কথায় অনবদ্য। পাহাড়,নদী এবং সাগরের মেলবন্ধন এখানে পর্যটকদের মুগ্ধ করে।', 'ইন্টারনেট আমাদের জীবনে এক নতুন দিগন্ত উন্মোচন করেছে। এটি শিক্ষা এবং বিনোদনের প্রধান উৎস।', 'আধুনিক প্রযুক্তি আমাদের কাজকে সহজ এবং দ্রুততর করেছে।', 'বাংলাদেশের প্রাকৃতিক সৌন্দর্য এক কথায় অনবদ্য। পাহাড়,নদী এবং সাগরের মেলবন্ধন এখানে পর্যটকদের মুগ্ধ করে।', 'ইন্টারনেট আমাদের জীবনে এক নতুন দিগন্ত উন্মোচন করেছে। এটি শিক্ষা এবং বিনোদনের প্রধান উৎস।', 'বন সংরক্ষণ পরিবেশের ভারসাম্য রক্ষার জন্য অত্যন্ত গুরুত্বপূর্ণ।', 'উন্নত স্বাস্থ্যসেবার জন্য ভালো হাসপাতাল এবং ডাক্তার প্রয়োজন।', 'বাংলাদেশের প্রাকৃতিক সৌন্দর্য এক কথায় অনবদ্য। পাহাড়,নদী এবং সাগরের মেলবন্ধন এখানে পর্যটকদের মুগ্ধ করে।', 'ঢাকা শহরের যানজট একটি বড় সমস্যা। এটি মানুষকে মানসিক চাপ ও সময়ের অপচয় করে।', 'বাঙালি সংস্কৃতি তার বৈচিত্র্যের জন্য প্রসিদ্ধ। এখানে বিভিন্ন ধর্ম,ভাষা ও ঐতিহ্য একসাথে মিশে আছে।', 'বাংলাদেশে অনেক ধরনের ঋতু রয়েছে। প্রতি ঋতু তার নিজস্ব বৈশিষ্ট্য নিয়ে আসে।', 'কৃষি বাংলাদেশের অর্থনীতির প্রধান চালিকা শক্তি। দেশের বেশিরভাগ মানুষ কৃষিকাজের উপর নির্ভরশীল।', 'বন সংরক্ষণ পরিবেশের ভারসাম্য রক্ষার জন্য অত্যন্ত গুরুত্বপূর্ণ।', 'আধুনিক প্রযুক্তি আমাদের কাজকে সহজ এবং দ্রুততর করেছে।', 'ঢাকা শহরের যানজট একটি বড় সমস্যা। এটি মানুষকে মানসিক চাপ ও সময়ের অপচয় করে।', 'ইন্টারনেট আমাদের জীবনে এক নতুন দিগন্ত উন্মোচন করেছে। এটি শিক্ষা এবং বিনোদনের প্রধান উৎস।']\n"
          ]
        }
      ]
    },
    {
      "cell_type": "code",
      "source": [
        "print(\"\\nText 2 column:\")\n",
        "print(df['Text 2'].tolist())"
      ],
      "metadata": {
        "colab": {
          "base_uri": "https://localhost:8080/"
        },
        "id": "gIg0zg1_hLf_",
        "outputId": "d65550bf-be32-4250-b934-99d0089814ff"
      },
      "execution_count": null,
      "outputs": [
        {
          "output_type": "stream",
          "name": "stdout",
          "text": [
            "\n",
            "Text 2 column:\n",
            "['Text 2', 'রপ্তানি খাতে গার্মেন্টস শিল্পের অবদান অত্যন্ত গুরুত্বপূর্ণ। দেশের অর্থনীতি কৃষি,শিল্প এবং সেবার উপর নির্ভরশীল।', 'সুস্থ থাকার জন্য সঠিক জীবনযাপন পদ্ধতি অনুসরণ করতে হবে। নিয়মিত স্বাস্থ্য পরীক্ষা আমাদের ভালো থাকার সহায়ক।', 'ইন্টারনেট প্রযুক্তি আমাদের দৈনন্দিন কাজকে সহজ করেছে। প্রযুক্তি আমাদের শিক্ষার পদ্ধতিতে বৈপ্লবিক পরিবর্তন এনেছে।', 'ধান থেকে চাল তৈরি হয় যা বাংলাদেশের মানুষের প্রধান খাদ্য। ধান চাষ কৃষি নির্ভর বাংলাদেশের অর্থনীতির মূল চালিকা।', 'বাংলাদেশে ক্রিকেট একটি আবেগের বিষয়। ফুটবল এবং কাবাডি দেশের ঐতিহ্যবাহী খেলার অংশ। খেলাধুলা আমাদের স্বাস্থ্য এবং মনোভাব উন্নত করে।', 'বাংলাদেশের অর্থনীতি মূলত কৃষি-নির্ভর। দেশের অধিকাংশ  মানুষ  কৃষি  কাজের  সাথে  জড়িত।  ধান,পাট,চা  ইত্যাদি  প্রধান  কৃষি  পণ্য।  কৃষি  ক্ষেত্রে  উন্নয়ন  বাংলাদেশের  অর্থনৈতিক  উন্নয়নের  জন্য  গুরুত্বপূর্ণ।', 'প্রযুক্তির  ব্যবহার  শিক্ষা  ক্ষেত্রে  বিরাট  ভূমিকা  পালন  করছে।  অনলাইন  শিক্ষা  ব্যবস্থা  এখন  অনেক  জনপ্রিয়।  ছাত্ররা  ঘরে  বসে  ইন্টারনেটের  মাধ্যমে  বিভিন্ন  বিষয়ে  জ্ঞান  অর্জন  করতে  পারছে।', 'স্বাস্থ্য  সম্পদ।  সুস্থ  শরীরে  সুস্থ  মন  বাস  করে।  সুস্থ  মানুষ  কাজ  করতে  পারে  এবং  সমাজের  উন্নয়নে  অংশগ্রহণ  করতে  পারে।  স্বাস্থ্যের  জন্য  পুষ্টিকর  খাবার  খাওয়া  এবং  নিয়মিত  ব্যায়াম  করা  প্রয়োজন।', 'জলবায়ু  পরিবর্তন  একটি  বড়  সমস্যা।  বিশ্বের  তাপমাত্রা  বৃদ্ধি  পাচ্ছে।  বরফ  গলছে।  সমুদ্রের  পানি  বৃদ্ধি  পাচ্ছে।  এই  জন্য  অনেক  দেশ  জলমগ্ন  হওয়ার  ঝুঁকিতে  আছে।  জলবায়ু  পরিবর্তন  রোধ  করার  জন্য  সবাইকে  এগিয়ে  আসতে  হবে।', 'ভারত  একটি  বৃহৎ  দেশ।  এ  দেশের  অর্থনীতি  অনেক  বড়।  এ  দেশের  মানুষ  বিভিন্ন  ভাষায়  কথা  বলে।  ভারত  একটি  প্রাচীন  সভ্যতার  দেশ।  এ  দেশের  সংস্কৃতি  অনেক  সমৃদ্ধ।', 'মোবাইল  ফোন  আমাদের  জীবনের  একটি  অপরিহার্য  অংশ  হয়ে  গেছে।  আমরা  এখন  সবসময়  যোগাযোগ  থাকতে  পারি।  আমরা  মোবাইল  ফোনে  ছবি  তুলতে  পারি।  আমরা  মোবাইল  ফোনে  গান  শুনতে  পারি।  আমরা  মোবাইল  ফোনে  ইন্টারনেট  ব্যবহার  করতে  পারি।', 'আমি  ভ্রমণ  করতে  ভালোবাসি।  নতুন  নতুন  জায়গায়  যাওয়া,নতুন  নতুন  মানুষের  সাথে  দেখা  করা,নতুন  নতুন  সংস্কৃতি  অনুভব  করা  আমাকে  অনেক  আনন্দ  দেয়।  ভ্রমণ  আমার  জীবনের  অভিজ্ঞতাকে  সমৃদ্ধ  করে।', 'শিল্প  উন্নয়ন  একটি  দেশের  অর্থনৈতিক  উন্নয়নের  জন্য  অত্যন্ত  গুরুত্বপূর্ণ।  শিল্প  কারখানা  স্থাপনের  মাধ্যমে  কর্মসংস্থান  সৃষ্টি  হয়।  শিল্প  ক্ষেত্রে  বিনিয়োগ  বৃদ্ধি  পেলে  দেশের  অর্থনীতি  দ্রুত  গতিতে  উন্নতি  লাভ  করে।', 'স্বাস্থ্য  মানুষের  সবচেয়ে  বড়  সম্পদ।  সুস্থ  শরীরে  সুস্থ  মন  বাস  করে।  সুস্থ  মানুষ  কাজ  করতে  পারে  এবং  সমাজের  উন্নয়নে  অংশগ্রহণ  করতে  পারে।  স্বাস্থ্যের  জন্য  পুষ্টিকর  খাবার  খাওয়া  এবং  নিয়মিত  ব্যায়াম  করা  প্রয়োজন।', 'জলবায়ু  পরিবর্তন  একটি  বৈশ্বিক  সমস্যা।  জলবায়ু  পরিবর্তনের  ফলে  বিশ্বের  তাপমাত্রা  বৃদ্ধি  পাচ্ছে।  বরফ  গলছে।  সমুদ্রের  পানি  বৃদ্ধি  পাচ্ছে।  এই  জন্য  অনেক  দেশ  জলমগ্ন  হওয়ার  ঝুঁকিতে  আছে।', 'ভারত  একটি  বৃহৎ  দেশ।  এ  দেশের  অর্থনীতি  অনেক  বড়।  এ  দেশের  মানুষ  বিভিন্ন  ভাষায়  কথা  বলে।  ভারত  একটি  প্রাচীন  সভ্যতার  দেশ।  এ  দেশের  সংস্কৃতি  অনেক  সমৃদ্ধ।', 'বাংলাদেশের  সংস্কৃতি  অনেক  প্রাচীন  এবং  বৈচিত্র্যময়।  এখানে  বিভিন্ন  ধর্ম,বর্ণ  এবং  গোষ্ঠীর  মানুষ  একসাথে  বসবাস  করে।  বাংলাদেশের  সংস্কৃতিতে  বিভিন্ন  উৎসব,পার্বণ  এবং  রীতিনীতি  গুরুত্বপূর্ণ  ভূমিকা  পালন  করে।', 'গাছ  পরিবেশের  জন্য  অনেক  গুরুত্বপূর্ণ।  গাছ  বায়ু  থেকে  কার্বন  ডাইঅক্সাইড  শোষণ  করে  এবং  অক্সিজেন  ত্যাগ  করে।  গাছ  মাটি  ক্ষয়  রোধ  করে  এবং  জীববৈচিত্র্য  সংরক্ষণে  সাহায্য  করে।', 'শিক্ষা  ব্যবস্থার  উন্নয়ন  দেশের  উন্নয়নের  জন্য  অত্যাবশ্যক।  সরকারি  এবং  বেসরকারি  ভাবে  শিক্ষা  ক্ষেত্রে  বিনিয়োগ  বৃদ্ধি  করা  প্রয়োজন।  শিক্ষকদের  প্রশিক্ষণ  এবং  মানসম্মত  শিক্ষা  সামগ্রী  সরবরাহ  করা  গুরুত্বপূর্ণ।', 'মানসিক  স্বাস্থ্য  শারীরিক  স্বাস্থ্যের  মতোই  গুরুত্বপূর্ণ।  মানসিক  চাপ,উদ্বেগ  এবং  বিষণ্ণতা  আমাদের  জীবনকে  অনেক  ভাবে  প্রভাবিত  করে।  মানসিক  স্বাস্থ্যের  উন্নয়নের  জন্য  আমাদের  সচেতন  হতে  হবে  এবং  প্রয়োজনে  বিশেষজ্ঞের  সাহায্য  নিতে  হবে।', 'কৃষকদের  জন্য  প্রয়োজনীয়  সুযোগ-সুবিধা  সরবরাহ  করা  গুরুত্বপূর্ণ।  সেচ  ব্যবস্থার  উন্নয়ন,কৃষি  ঋণ  সহজলভ্য  করা,উন্নত  জাতের  বীজ  এবং  সার  সরবরাহ  করা  কৃষি  উৎপাদন  বৃদ্ধিতে  সাহায্য  করবে।', 'পর্যটন  শিল্পের  উন্নয়নের  জন্য  পর্যটন  কেন্দ্রগুলোর  অবকাঠামো  উন্নয়ন  করা  প্রয়োজন।  যোগাযোগ  ব্যবস্থার  উন্নয়ন,হোটেল  এবং  রেস্তোরাঁর  মান  উন্নয়ন  এবং  পর্যটকদের  নিরাপত্তা  সুনিশ্চিত  করা  গুরুত্বপূর্ণ।', 'নারীদের  প্রতি  সকল  প্রকার  বৈষম্য  দূর  করা  প্রয়োজন।  নারীদের  শিক্ষা,স্বাস্থ্য  এবং  কর্মসংস্থানের  ক্ষেত্রে  সমান  সুযোগ  সুনিশ্চিত  করা  গুরুত্বপূর্ণ।  নারী  নির্যাতন  এবং  হিংসার  বিরুদ্ধে  সামাজিক  সচেতনতা  বৃদ্ধি  করা  প্রয়োজন।', 'শিশুদের  অধিকার  সুরক্ষিত  করা  আমাদের  সকলের  দায়িত্ব।  শিশুদের  জন্য  নিরাপদ  পরিবেশ  তৈরি  করা  এবং  তাদের  মৌলিক  অধিকার  সুনিশ্চিত  করা  গুরুত্বপূর্ণ।', 'পরিবেশ  সংরক্ষণ  আমাদের  সকলের  দায়িত্ব।  প্লাস্টিক  বর্জন,গাছ  লাগানো,পরিবেশ  বান্ধব  জীবনযাত্রা  অনুসরণ  করা  প্রভৃতি  পদক্ষেপের  মাধ্যমে  আমরা  পরিবেশ  দূষণ  কমাতে  এবং  জলবায়ু  পরিবর্তন  রোধে  সাহায্য  করতে  পারি।', 'কৃষি  উন্নয়ন  খাদ্য  নিরাপত্তা  সুনিশ্চিত  করার  জন্য  গুরুত্বপূর্ণ।  আধুনিক  কৃষি  প্রযুক্তি  ব্যবহার,সেচ  ব্যবস্থার  উন্নয়ন  এবং  কৃষকদের  প্রশিক্ষণ  খাদ্য  উৎপাদন  বৃদ্ধিতে  সাহায্য  করবে।', 'দারিদ্র্য  বিমোচনের  জন্য  সরকারি  এবং  বেসরকারি  ভাবে  বিভিন্ন  পদক্ষেপ  নেওয়া  হচ্ছে।  ক্ষুদ্র  ঋণ  প্রদান,দক্ষতা  বিকাশ  প্রশিক্ষণ  এবং  সামাজিক  সুরক্ষা  প্রকল্প  দারিদ্র্য  বিমোচনে  অবদান  রাখছে।', 'বাংলাদেশ  একটি  উন্নয়নশীল  দেশ।  দেশের  অর্থনীতি  গত  কয়েক  দশকে  উল্লেখযোগ্য  উন্নতি  সাধন  করেছে।  তবে  দারিদ্র্য,বেকারত্ব  এবং  অন্যান্য  সামাজিক  সমস্যা  এখনও  বিদ্যমান।', 'শিল্প  কারখানা  থেকে  নির্গত  ধোঁয়া  এবং  রাসায়নিক  পদার্থ  বায়ু  এবং  জল  দূষণের  প্রধান  কারণ।  শিল্প  কারখানা  গুলোতে  পরিবেশ  বান্ধব  প্রযুক্তি  ব্যবহার  এবং  বর্জ্য  পরিশোধনের  ব্যবস্থা  করা  প্রয়োজন।', 'শহরগুলোতে  আবাসন,পরিবহন,পানি  সরবরাহ  এবং  স্বাস্থ্য  সেবার  সুযোগ-সুবিধা  বৃদ্ধি  করা  প্রয়োজন।  শহর  এবং  গ্রামের  মধ্যে  অসাম্য  কমানোর  জন্য  গ্রামীণ  অবকাঠামো  উন্নয়ন  করা  গুরুত্বপূর্ণ।', 'গণতন্ত্র  টিকিয়ে  রাখার  জন্য  সকল  রাজনৈতিক  দল  এবং  নাগরিকদের  গণতান্ত্রিক  মূল্যবোধ  মেনে  চলা  প্রয়োজন।  সুষ্ঠু  নির্বাচন,আইনের  শাসন  এবং  স্বাধীন  বিচার  ব্যবস্থা  গণতন্ত্র  শক্তিশালী  করবে।', 'মানবাধিকার  সুরক্ষার  জন্য  বিভিন্ন  আইন  এবং  প্রতিষ্ঠান  কাজ  করছে।  মানবাধিকার  শিক্ষা  এবং  সচেতনতা  বৃদ্ধি  মানবাধিকার  সুরক্ষায়  গুরুত্বপূর্ণ  ভূমিকা  পালন  করে।', 'বিশ্বায়নের  ফলে  উন্নত  দেশগুলো  উন্নয়নশীল  দেশগুলোর  উপর  প্রভাব  বিস্তার  করছে।  বিশ্বায়নের  প্রভাব  সব  ক্ষেত্রে  ইতিবাচক  নয়।  বিশ্বায়নের  ফলে  অনেক  ক্ষেত্রে  সামাজিক  অসাম্য  এবং  পরিবেশ  ধ্বংস  বৃদ্ধি  পেয়েছে।', 'বিভিন্ন  দেশ  এবং  সংস্কৃতির  মানুষের  মধ্যে  সম্প্রীতি  এবং  সহযোগিতা  শান্তি  প্রতিষ্ঠায়  সাহায্য  করবে।  আন্তর্জাতিক  সংস্থাগুলো  শান্তি  শৃঙ্খলা  বজায়  রাখতে  গুরুত্বপূর্ণ  ভূমিকা  পালন  করে।', 'করোনা  ভাইরাসের  বিস্তার  রোধ  করার  জন্য  সামাজিক  দূরত্ব  বজায়  রাখা,মাস্ক  পরা  এবং  নিয়মিত  হাত  ধোয়া  গুরুত্বপূর্ণ।  টিকা  গ্রহণ  করোনা  ভাইরাস  থেকে  আমাদের  রক্ষা  করতে  সাহায্য  করবে।', 'তথ্য  প্রযুক্তির  অপব্যবহার  থেকে  আমাদের  সাবধান  থাকতে  হবে।  সাইবার  অপরাধ,তথ্য  চুরি  এবং  অন্যান্য  অনৈতিক  কার্যকলাপ  থেকে  নিজেদের  রক্ষা  করতে  হবে।', 'শিল্প  বিপ্লব  ৪.০  এর  সুফল  সকলের  কাছে  পৌঁছে  দেওয়ার  জন্য  সরকার  এবং  বেসরকারি  খাতকে  একযোগে  কাজ  করতে  হবে।  দক্ষ  মানব  সম্পদ  গড়ে  তোলা  এবং  প্রযুক্তিগত  অবকাঠামো  উন্নয়ন  করা  গুরুত্বপূর্ণ।', 'সৌর  শক্তি  এবং  বায়ু  শক্তি  উৎপাদনের  প্রযুক্তি  এখন  অনেক  উন্নত।  সরকারি  এবং  বেসরকারি  ভাবে  নবায়নযোগ্য  শক্তি  উৎপাদনে  বিনিয়োগ  বৃদ্ধি  করা  প্রয়োজন।', 'মহাকাশ  অনুসন্ধান  অনেক  ব্যয়বহুল।  তবে  মহাকাশ  অনুসন্ধান  থেকে  প্রাপ্ত  জ্ঞান  এবং  প্রযুক্তি  মানব  সভ্যতার  উন্নয়নে  অবদান  রাখে।', 'কৃত্রিম  বুদ্ধিমত্তার  বিকাশ  নিয়ন্ত্রণ  করা  গুরুত্বপূর্ণ।  কৃত্রিম  বুদ্ধিমত্তার  অপব্যবহার  মানব  সভ্যতার  জন্য  হুমকিস্বরূপ  হতে  পারে।', 'জৈব  প্রযুক্তির  নীতি  নৈতিকতা  এবং  নিরাপত্তা  বিষয়ক  গুরুত্বপূর্ণ  প্রশ্ন  উত্থাপন  করে।  জৈব  প্রযুক্তির  ব্যবহার  নিয়ন্ত্রণ  করা  এবং  নীতি  নৈতিকতার  সীমানা  মেনে  চলা  গুরুত্বপূর্ণ।', 'সামাজিক  মাধ্যমের  অপব্যবহার  থেকে  আমাদের  সাবধান  থাকতে  হবে।  সামাজিক  মাধ্যমে  প্রচারিত  ভুয়া  খবর  এবং  অপপ্রচার  থেকে  আমাদের  সচেতন  থাকতে  হবে।', 'অনলাইন  শিক্ষা  ব্যবস্থায়  শিক্ষক  এবং  শিক্ষার্থীর  মধ্যে  সরাসরি  যোগাযোগের  অভাব  একটি  সীমাবদ্ধতা।  অনলাইন  শিক্ষা  ব্যবস্থায়  শিক্ষার্থীদের  মনোযোগ  ধরে  রাখা  এবং  তাদের  সক্রিয়  অংশগ্রহণ  সুনিশ্চিত  করা  একটি  চ্যালেঞ্জ।', 'জীবাশ্ম  জ্বালানির  ব্যবহার  কমানো  এবং  নবায়নযোগ্য  শক্তির  ব্যবহার  বৃদ্ধি  বৈশ্বিক  উষ্ণায়ন  রোধে  সাহায্য  করবে।  পরিবেশ  বান্ধব  জীবনযাত্রা  অনুসরণ  করা  এবং  পরিবেশ  সংরক্ষণে  সক্রিয়  অংশগ্রহণ  করা  গুরুত্বপূর্ণ।', 'বন  উজাড়,জল  দূষণ  এবং  জলবায়ু  পরিবর্তন  জীববৈচিত্র্যের  জন্য  হুমকিস্বরূপ।  বন  সংরক্ষণ,জল  দূষণ  রোধ  এবং  জলবায়ু  পরিবর্তন  মোকাবেলা  জীববৈচিত্র্য  সংরক্ষণে  সাহায্য  করবে।', 'মুক্তিযুদ্ধের  চেতনা  আমাদের  স্বাধীনতা  এবং  সার্বভৌমত্ব  রক্ষা  করতে দেয়।  মুক্তিযোদ্ধাদের  আত্মত্যাগ  আমাদের  কৃতজ্ঞতা  স্মরণ  করিয়ে  দেয়।', 'ভাষা  আন্দোলনের  চেতনা  আমাদের  মাতৃভাষার  প্রতি  ভালোবাসা  শিক্ষা  দেয়।  আন্তর্জাতিক  মাতৃভাষা  দিবস  ভাষা  আন্দোলনের  শহীদদের  স্মরণ  করিয়ে  দেয়।', 'কৃষকদের  সুযোগ-সুবিধা  বৃদ্ধি  করা  প্রয়োজন।  সেচ  ব্যবস্থার  উন্নয়ন,কৃষি  ঋণ  সহজলভ্য  করা,উন্নত  জাতের  বীজ  এবং  সার  সরবরাহ  করা  কৃষি  উৎপাদন  বৃদ্ধিতে  সাহায্য  করবে।', 'শিক্ষকদের  প্রশিক্ষণ  এবং  মানসম্মত  শিক্ষা  সামগ্রী  সরবরাহ  করা  প্রয়োজন।  প্রযুক্তি  নির্ভর  শিক্ষা  ব্যবস্থা  विकसित  করা  এবং  শিক্ষার্থীদের  সৃজনশীলতা  বিকাশের  জন্য  সুযোগ  সৃষ্টি  করা  গুরুত্বপূর্ণ।', 'স্বাস্থ্য  সচেতনতা  বৃদ্ধি  করা  এবং  প্রতিরোধমূলক  স্বাস্থ্য  সেবা  প্রদান  করা  গুরুত্বপূর্ণ।  পুষ্টিকর  খাবার  গ্রহণ,নিয়মিত  ব্যায়াম  এবং  স্বাস্থ্যকর  জীবনযাত্রা  অনুসরণ  সুস্বাস্থ্য  বজায়  রাখতে  সাহায্য  করবে।', 'গণতান্ত্রিক  মূল্যবোধ  practice  করা  এবং  আইনের  শাসন  প্রতিষ্ঠা  করা  গুরুত্বপূর্ণ।  সুষ্ঠু  নির্বাচন  ব্যবস্থা  এবং  স্বাধীন  বিচার  ব্যবস্থা  গণতন্ত্র  শক্তিশালী  করবে।', 'ধর্মীয়  অসহিষ্ণুতা  এবং  জঙ্গিবাদ  সামাজিক  শান্তি  এবং  স্থিতিশীলতার  জন্য  হুমকিস্বরূপ।  ধর্মীয়  সম্প্রীতি  বজায়  রাখা  এবং  জঙ্গিবাদের  বিরুদ্ধে  সোচ্চার  হওয়া  আমাদের  সকলের  দায়িত্ব।', 'সরকার  বিভিন্ন  উন্নয়ন  প্রকল্প  হাতে  নিয়েছে।  শিক্ষা,স্বাস্থ্য,কৃষি  এবং  অবকাঠামো  উন্নয়নে  বিনিয়োগ  বৃদ্ধি  করা  হচ্ছে।  বেসরকারি  খাত  ও  উন্নয়ন  কাজে  গুরুত্বপূর্ণ  ভূমিকা  পালন  করছে।', 'বাংলাদেশের  সংস্কৃতি  আমাদের  ঐতিহ্য  এবং  পরিচয়ের  ধারক।  আমাদের  সংস্কৃতি  সংরক্ষণ  এবং  উন্নয়ন  করা  আমাদের  সকলের  দায়িত্ব।', 'বাংলা  ভাষার  উন্নয়ন  এবং  বিশ্বায়নের  জন্য  আমাদের  সকলকে  কাজ  করতে  হবে।  বাংলা  ভাষাকে  আধুনিক  প্রযুক্তির  সাথে  খাপ  খাইয়ে  চলতে  হবে।', 'প্রাকৃতিক  সৌন্দর্য  সংরক্ষণ  আমাদের  সকলের  দায়িত্ব।  বন  উজাড়,জল  দূষণ  এবং  পরিবেশ  দূষণ  প্রাকৃতিক  সৌন্দর্য  ধ্বংস  করে।  পরিবেশ  সংরক্ষণে  আমাদের  সকলকে  সচেতন  হতে  হবে।', 'বাংলাদেশের  মানুষ  অতিথিপরায়ণ  এবং  সহানুভূতিশীল।  তারা  অন্যদের  সাহায্য  করতে  সবসময়  প্রস্তুত  থাকে।  এই  গুণাবলী  বাংলাদেশের  মানুষকে  অন্যদের  থেকে  আলাদা  করে  তোলে।', 'বাংলাদেশের  ভবিষ্যৎ  উজ্জ্বল।  তরুণ  প্রজন্ম  দেশের  উন্নয়নে  গুরুত্বপূর্ণ  ভূমিকা  পালন  করবে।  শিক্ষা,প্রযুক্তি  এবং চিন্তা  বাংলাদেশকে  একটি  উন্নত  দেশে  পরিণত  করবে।', 'দেশপ্রেম  একটি  মহৎ  অনুভূতি।  আমাদের  সকলের  উচিত  দেশকে  ভালোবাসা  এবং  তার  জন্য  কাজ  করা।  দেশের  স্বার্থে  আত্মত্যাগ  করার  মানসিকতা  আমাদের  মধ্যে  জাগ্রত  করতে  হবে।', 'সুন্দরবন  পরিবেশের  ভারসাম্য  রক্ষা  করে  এবং  উপকূলীয়  অঞ্চলকে  ঝড়  এবং  জলোচ্ছ্বাস  থেকে  রক্ষা  করে।  সুন্দরবন  সংরক্ষণ  আমাদের  সকলের  দায়িত্ব।', 'কক্সবাজার  সমুদ্র  সৈকতে  পর্যটকদের  জন্য  বিভিন্ন  ধরনের  বিনোদনের  ব্যবস্থা  আছে।  সমুদ্র  স্নান,সূর্যস্নান,নৌকা  ভ্রমণ  এবং  স্থানীয়  খাবার  উপভোগ  করা  পর্যটকদের  কাছে  অনেক  জনপ্রিয়।', 'চা  বাগানগুলোতে  কাজ  করার  জন্য  অনেক  শ্রমিক  নিযুক্ত  আছে।  চা  শিল্পের  উন্নয়ন  এবং  শ্রমিকদের  জীবনযাত্রার  মান  উন্নয়ন  করা  প্রয়োজন।', 'পাহাড়ি  অঞ্চলের  উন্নয়ন  এবং  পর্যটন  শিল্পের  বিকাশ  স্থানীয়  অর্থনীতিতে  গুরুত্বপূর্ণ  ভূমিকা  পালন  করতে  পারে।  পরিবেশ  সংরক্ষণ  এবং  পাহাড়ি  সংস্কৃতি  ধরে  রাখা  গুরুত্বপূর্ণ।', 'ঢাকা  একটি  bustling   শহর  যেখানে  অনেক  মানুষ  বসবাস  করে  এবং  কাজ  করে।  ঢাকার  জনসংখ্যা  দ্রুত  বৃদ্ধি  পাচ্ছে  এবং  এর  ফলে  অবকাঠামোর উপর চাপ বাড়ছে।', 'চট্টগ্রাম  একটি  historian   শহর  যার  অনেক  ঐতিহাসিক  স্থাপত্য  এবং  স্থান  আছে।  চট্টগ্রামের  পাহাড়,সমুদ্র  সৈকত  এবং  বন  পর্যটকদের  কাছে  আকর্ষণীয়।', 'খুলনায়  অনেক  ঐতিহাসিক  স্থাপত্য  এবং  স্থান  আছে।  খুলনার  ষষ্ঠী  মন্দির  এবং  রবীন্দ্র  কমপ্লেক্স  পর্যটকদের  কাছে  আকর্ষণীয়।', 'রাজশাহী  একটি  historian   শহর  যার  অনেক  ঐতিহাসিক  স্থাপত্য  এবং  স্থান  আছে।  রাজশাহীর  পাহাড়পুর  বৌদ্ধ  বিহার  এবং  ভরেন্দ্র  গবেষণা জাদুঘর  পর্যটকদের  কাছে  আকর্ষণীয়।', 'সিলেটে  অনেক  ঝর্ণা  এবং  নদী  আছে।  সিলেটের  জাফলং  এবং  মাধবকুণ্ড  ঝর্ণা  পর্যটকদের  কাছে  অনেক  জনপ্রিয়।', 'শিক্ষিত মানুষ একটি দেশের উন্নয়নের মূল শক্তি। শিক্ষার মাধ্যমে একটি জাতি এগিয়ে যেতে পারে। শিক্ষা ব্যক্তি ও সমাজের জন্য গুরুত্বপূর্ণ।', 'সুন্দরবন এবং কক্সবাজার বাংলাদেশের প্রধান পর্যটন কেন্দ্র। দেশের পর্যটন শিল্পে বৈদেশিক মুদ্রা অর্জনের সম্ভাবনা রয়েছে।', 'বাংলাদেশের ঐতিহ্যবাহী পোশাক যেমন শাড়ি ও লুঙ্গি দেশের সংস্কৃতির অংশ। পহেলা বৈশাখ দেশের অন্যতম বড় সাংস্কৃতিক উৎসব।', 'পরিবেশের ভারসাম্য রক্ষা করতে আমাদের গাছপালা লাগাতে হবে। পরিবেশবান্ধব জীবনযাত্রা ভবিষ্যৎ প্রজন্মের জন্য গুরুত্বপূর্ণ।', '১৯৭১ সালের মুক্তিযুদ্ধ ছিল বাংলাদেশের জন্য একটি বড় চ্যালেঞ্জ। এই যুদ্ধে অনেক ত্যাগের মাধ্যমে দেশ স্বাধীনতা লাভ করে।', 'বাংলাদেশের প্রাকৃতিক সৌন্দর্য এক কথায় অনবদ্য। পাহাড়,নদী এবং সাগরের মেলবন্ধন এখানে পর্যটকদের মুগ্ধ করে।', 'বাংলাদেশের পর্যটন শিল্প দেশের অর্থনীতিতে বিশেষ ভূমিকা পালন করে। পর্যটকদের আকর্ষণের জন্য নতুন নতুন উদ্যোগ নেওয়া হচ্ছে। দেশীয় সংস্কৃতি,খাবার এবং ঐতিহ্য পর্যটকদের আরও কাছে টেনে নিচ্ছে।', 'বাংলাদেশে ক্রিকেট সবচেয়ে জনপ্রিয় খেলা। দেশের মানুষের আবেগ এবং ভালবাসা এই খেলার প্রতি গভীর। আন্তর্জাতিক পর্যায়ে দেশের ক্রিকেট দলের সাফল্য বাংলাদেশকে গর্বিত করে তুলেছে।', 'পুষ্টি মানুষের জীবনে গুরুত্বপূর্ণ ভূমিকা পালন করে। সুষম খাদ্য গ্রহণ আমাদের দেহ এবং মনকে সুস্থ রাখে। খাদ্যাভ্যাসে পরিবর্তন আনার মাধ্যমে আমরা দীর্ঘমেয়াদে সুস্থ থাকতে পারি।', 'বাংলাদেশের গ্রামীণ সমাজে কৃষি একটি প্রধান চালিকা শক্তি। কৃষি উন্নয়নে আধুনিক প্রযুক্তির ব্যবহার এবং সরকারি সহায়তা দেশের উন্নয়নে গুরুত্বপূর্ণ ভূমিকা পালন করে।', 'পরিবেশ দূষণ রোধে সাধারণ মানুষের সচেতনতা বৃদ্ধি করা অত্যন্ত জরুরি। পরিবেশ বান্ধব পণ্য ব্যবহার এবং পুনর্ব্যবহারযোগ্য জিনিসের ব্যবহার পরিবেশকে রক্ষায় গুরুত্বপূর্ণ ভূমিকা রাখতে পারে।', 'আধুনিক প্রযুক্তি আমাদের কাজকে সহজ এবং দ্রুততর করেছে।', 'শিক্ষার মাধ্যমে উন্নয়নের পথচলা সম্পর্কে ধারণা।', 'বাংলার লোকজ সংস্কৃতির ঐতিহ্য সম্পর্কে ধারণা।', 'গাছপালা আমাদের জীবনের অবিচ্ছেদ্য অংশ সম্পর্কে ধারণা।', 'ডিজিটাল বাংলাদেশের অগ্রযাত্রা সম্পর্কে ধারণা।', 'মুক্তিযুদ্ধের গৌরবময় অধ্যায় সম্পর্কে ধারণা।', 'প্রযুক্তির বিকাশ আমাদের জীবনযাত্রার মান উন্নত করেছে।', 'ঢাকা শহরের যানজট একটি বড় সমস্যা। এটি মানুষকে মানসিক চাপ ও সময়ের অপচয় করে।', 'শিক্ষা জাতির মেরুদণ্ড। বাংলাদেশে শিক্ষার হার দিন দিন বৃদ্ধি পাচ্ছে।', 'শিক্ষা জাতির মেরুদণ্ড। বাংলাদেশে শিক্ষার হার দিন দিন বৃদ্ধি পাচ্ছে।', 'কৃষি বাংলাদেশের অর্থনীতির প্রধান চালিকা শক্তি। দেশের বেশিরভাগ মানুষ কৃষিকাজের উপর নির্ভরশীল।', 'বন সংরক্ষণ পরিবেশের ভারসাম্য রক্ষার জন্য অত্যন্ত গুরুত্বপূর্ণ।', 'উন্নত স্বাস্থ্যসেবার জন্য ভালো হাসপাতাল এবং ডাক্তার প্রয়োজন।', 'উন্নত স্বাস্থ্যসেবার জন্য ভালো হাসপাতাল এবং ডাক্তার প্রয়োজন।', 'বন সংরক্ষণ পরিবেশের ভারসাম্য রক্ষার জন্য অত্যন্ত গুরুত্বপূর্ণ।', 'উন্নত স্বাস্থ্যসেবার জন্য ভালো হাসপাতাল এবং ডাক্তার প্রয়োজন।', 'আধুনিক প্রযুক্তি আমাদের কাজকে সহজ এবং দ্রুততর করেছে।', 'বাংলাদেশের প্রাকৃতিক সৌন্দর্য এক কথায় অনবদ্য। পাহাড়,নদী এবং সাগরের মেলবন্ধন এখানে পর্যটকদের মুগ্ধ করে।', 'উন্নত স্বাস্থ্যসেবার জন্য ভালো হাসপাতাল এবং ডাক্তার প্রয়োজন।', 'বন সংরক্ষণ পরিবেশের ভারসাম্য রক্ষার জন্য অত্যন্ত গুরুত্বপূর্ণ।', 'বাঙালি সংস্কৃতি তার বৈচিত্র্যের জন্য প্রসিদ্ধ। এখানে বিভিন্ন ধর্ম,ভাষা ও ঐতিহ্য একসাথে মিশে আছে।', 'বাঙালি সংস্কৃতি তার বৈচিত্র্যের জন্য প্রসিদ্ধ। এখানে বিভিন্ন ধর্ম,ভাষা ও ঐতিহ্য একসাথে মিশে আছে।', 'কৃষি বাংলাদেশের অর্থনীতির প্রধান চালিকা শক্তি। দেশের বেশিরভাগ মানুষ কৃষিকাজের উপর নির্ভরশীল।', 'শিক্ষা জাতির মেরুদণ্ড। বাংলাদেশে আধুনিক প্রযুক্তি আমাদের শিক্ষা কাজকে সহজ এবং দ্রুততর করেছে।', 'আধুনিক প্রযুক্তি আমাদের স্বাস্থ্যসেবার কাজকে সহজ এবং দ্রুততর করেছে।', 'আধুনিক প্রযুক্তি আমাদের কাজকে সহজ এবং দ্রুততর করেছে।', 'ইন্টারনেট আমাদের জীবনে এক নতুন দিগন্ত উন্মোচন করেছে। এটি শিক্ষা এবং বিনোদনের প্রধান উৎস।', 'বাংলাদেশে অনেক ধরনের ঋতু রয়েছে। প্রতি ঋতু তার নিজস্ব বৈশিষ্ট্য নিয়ে আসে।', 'আধুনিক প্রযুক্তি আমাদের কাজকে সহজ এবং দ্রুততর করেছে।', 'বাংলাদেশের প্রাকৃতিক সৌন্দর্য এক কথায় অনবদ্য। পাহাড়,নদী এবং সাগরের মেলবন্ধন এখানে পর্যটকদের মুগ্ধ করে।', 'বাঙালি সংস্কৃতি তার বৈচিত্র্যের জন্য প্রসিদ্ধ। এখানে দেশের বেশিরভাগ মানুষ কৃষিকাজের উপর নির্ভরশীল।', 'বাঙালি সংস্কৃতি তার বৈচিত্র্যের জন্য প্রসিদ্ধ। এখানে বিভিন্ন ধর্ম,ভাষা ও ঐতিহ্য একসাথে মিশে আছে।', 'কৃষি বাংলাদেশের অর্থনীতির প্রধান চালিকা শক্তি। দেশের বেশিরভাগ মানুষ কৃষিকাজের উপর নির্ভরশীল।', 'আধুনিক প্রযুক্তি আমাদের কাজকে সহজ এবং দ্রুততর করেছে।', 'বন সংরক্ষণ পরিবেশের ভারসাম্য রক্ষার জন্য অত্যন্ত গুরুত্বপূর্ণ।', 'উন্নত স্বাস্থ্যসেবার জন্য ভালো হাসপাতাল এবং ডাক্তার প্রয়োজন।', 'বাংলাদেশের প্রাকৃতিক সৌন্দর্য এক কথায় অনবদ্য। পাহাড়,নদী এবং সাগরের মেলবন্ধন এখানে পর্যটকদের মুগ্ধ করে।', 'কৃষি বাংলাদেশের অর্থনীতির প্রধান চালিকা শক্তি। দেশের বেশিরভাগ মানুষ কৃষিকাজের উপর নির্ভরশীল।', 'কৃষি বাংলাদেশের অর্থনীতির প্রধান চালিকা শক্তি। দেশের বেশিরভাগ মানুষ কৃষিকাজের উপর নির্ভরশীল।', 'উন্নত স্বাস্থ্যসেবার জন্য ভালো হাসপাতাল এবং ডাক্তার প্রয়োজন।', 'উন্নত স্বাস্থ্যসেবার জন্য ভালো হাসপাতাল এবং ডাক্তার প্রয়োজন।', 'বাঙালি সংস্কৃতি তার বৈচিত্র্যের জন্য প্রসিদ্ধ। এখানে বিভিন্ন ধর্ম,ভাষা ও ঐতিহ্য একসাথে মিশে আছে।', 'ইন্টারনেট আমাদের জীবনে এক নতুন দিগন্ত উন্মোচন করেছে। এটি শিক্ষা এবং বিনোদনের প্রধান উৎস।', 'আধুনিক প্রযুক্তি আমাদের কাজকে সহজ এবং দ্রুততর করেছে।', 'বাঙালি সংস্কৃতি তার বৈচিত্র্যের জন্য প্রসিদ্ধ। এখানে বিভিন্ন ধর্ম,ভাষা ও ঐতিহ্য একসাথে মিশে আছে।', 'কৃষি বাংলাদেশের অর্থনীতির প্রধান চালিকা শক্তি। দেশের বেশিরভাগ মানুষ কৃষিকাজের উপর নির্ভরশীল।', 'ঢাকা শহরের যানজট একটি বড় সমস্যা। এটি মানুষকে মানসিক চাপ ও সময়ের অপচয় করে।', 'বন সংরক্ষণ পরিবেশের ভারসাম্য রক্ষার জন্য অত্যন্ত গুরুত্বপূর্ণ।', 'কৃষি বাংলাদেশের অর্থনীতির প্রধান চালিকা শক্তি। দেশের বেশিরভাগ মানুষ কৃষিকাজের উপর নির্ভরশীল।', 'আধুনিক প্রযুক্তি আমাদের কাজকে সহজ এবং দ্রুততর করেছে।', 'বাংলাদেশে অনেক ধরনের ঋতু রয়েছে। প্রতি ঋতু তার নিজস্ব বৈশিষ্ট্য নিয়ে আসে।', 'বাংলাদেশের প্রাকৃতিক সৌন্দর্য এক কথায় অনবদ্য। পাহাড়,নদী এবং সাগরের মেলবন্ধন এখানে পর্যটকদের মুগ্ধ করে।', 'আধুনিক প্রযুক্তি আমাদের কাজকে সহজ এবং দ্রুততর করেছে।', 'ঢাকা শহরের যানজট একটি বড় সমস্যা। এটি মানুষকে মানসিক চাপ ও সময়ের অপচয় করে।', 'শিক্ষা জাতির মেরুদণ্ড। বাংলাদেশে শিক্ষার হার দিন দিন বৃদ্ধি পাচ্ছে।']\n"
          ]
        }
      ]
    },
    {
      "cell_type": "code",
      "source": [
        "print(\"\\nSimilarity Score column:\")\n",
        "print(df['Similarity Score'].tolist())"
      ],
      "metadata": {
        "colab": {
          "base_uri": "https://localhost:8080/"
        },
        "id": "sFOpPa5kx0qo",
        "outputId": "599e05e5-061e-495f-b3ab-c3593a71d670"
      },
      "execution_count": null,
      "outputs": [
        {
          "output_type": "stream",
          "name": "stdout",
          "text": [
            "\n",
            "Similarity Score column:\n",
            "['Similarity Score', '0.92', '0.96', '1', '1', '0.81', '0.4', '0.6', '0', '0', '0.2', '0.6', '0', '0', '0', '1', '0.2', '0.4', '0.5', '0.7', '0.5', '0.7', '0.6', '0.7', '0.8', '0.6', '0.7', '0.8', '0.6', '0.5', '0.6', '0.7', '0.8', '0.5', '0.6', '0.7', '0.5', '0.6', '0.7', '0.5', '0.6', '0.7', '0.5', '0.6', '0.7', '0.6', '0.5', '0.6', '0.7', '0.8', '0.6', '0.7', '0.5', '0.6', '0.7', '0.8', '0.6', '0.5', '0.7', '0.8', '0.6', '0.5', '0.6', '0.5', '0.4', '0.5', '0.6', '0.4', '0.5', '1', '0.82', '0.85', '1', '1', '0', '0.6', '0.7', '0.6', '0.7', '0.8', '1', '0.45', '0.25', '0.68', '0.53', '0.80', '0.45', '0', '0', '0', '0', '0', '0.4', '0', '0.37', '0.04', '0', '0.62', '0', '0.32', '0', '0', '0', '0.88', '0.77', '0.08', '0', '0', '0.4', '0', '0.77', '0', '0', '0', '0', '0', '0', '0', '0', '0', '0', '0', '0', '0.67', '0', '0', '0', '0', '0', '0.12', '0.19', '0.17', '0.96', '0.96', '0.20']\n"
          ]
        }
      ]
    },
    {
      "cell_type": "code",
      "source": [],
      "metadata": {
        "id": "VhW4NO-Fx5Lo"
      },
      "execution_count": null,
      "outputs": []
    }
  ]
}